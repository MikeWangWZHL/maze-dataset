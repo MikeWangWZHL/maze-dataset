{
 "cells": [
  {
   "cell_type": "code",
   "execution_count": 1,
   "metadata": {},
   "outputs": [],
   "source": [
    "import numpy as np\n",
    "import matplotlib.pyplot as plt\n",
    "\n",
    "from maze_dataset import MazeDataset, MazeDatasetConfig, LatticeMazeGenerators, SolvedMaze\n",
    "from maze_dataset.tokenization import MazeTokenizer, TokenizationMode\n",
    "from maze_dataset.plotting import plot_dataset_mazes\n",
    "from maze_dataset.plotting.print_tokens import display_color_tokens_rgb, display_color_tokens_cmap, display_color_maze_tokens_AOTP\n",
    "from maze_dataset.utils import corner_first_ndindex"
   ]
  },
  {
   "attachments": {},
   "cell_type": "markdown",
   "metadata": {},
   "source": [
    "Let's get a basic dataset first:"
   ]
  },
  {
   "cell_type": "code",
   "execution_count": 2,
   "metadata": {},
   "outputs": [],
   "source": [
    "CFG: MazeDatasetConfig = MazeDatasetConfig(\n",
    "\tname=\"test\",\n",
    "\tgrid_n=5,\n",
    "\tn_mazes=5,\n",
    "\tmaze_ctor=LatticeMazeGenerators.gen_dfs,\n",
    ")"
   ]
  },
  {
   "cell_type": "code",
   "execution_count": 3,
   "metadata": {},
   "outputs": [],
   "source": [
    "DATASET: MazeDataset = MazeDataset.from_config(CFG, local_base_path=\"../data/maze_dataset/\")"
   ]
  },
  {
   "cell_type": "code",
   "execution_count": 4,
   "metadata": {},
   "outputs": [
    {
     "data": {
      "text/plain": [
       "(<Figure size 500x200 with 5 Axes>,\n",
       " array([<Axes: >, <Axes: >, <Axes: >, <Axes: >, <Axes: >], dtype=object))"
      ]
     },
     "execution_count": 4,
     "metadata": {},
     "output_type": "execute_result"
    },
    {
     "data": {
      "image/png": "[encoded data removed]",
      "text/plain": [
       "<Figure size 500x200 with 5 Axes>"
      ]
     },
     "metadata": {},
     "output_type": "display_data"
    }
   ],
   "source": [
    "plot_dataset_mazes(DATASET)"
   ]
  },
  {
   "attachments": {},
   "cell_type": "markdown",
   "metadata": {},
   "source": [
    "Now, let's see how tokenization works:"
   ]
  },
  {
   "cell_type": "code",
   "execution_count": 5,
   "metadata": {},
   "outputs": [],
   "source": [
    "TOKENIZER: MazeTokenizer = MazeTokenizer(tokenization_mode=TokenizationMode.AOTP_UT_rasterized, max_grid_size=100)"
   ]
  },
  {
   "cell_type": "code",
   "execution_count": 6,
   "metadata": {},
   "outputs": [
    {
     "name": "stdout",
     "output_type": "stream",
     "text": [
      "<ADJLIST_START> (0,0) <--> (1,0) ; (2,0) <--> (3,0) ; (4,1) <--> (4,0) ; (2,0) <--> (2,1) ; (1,0) <--> (1,1) ; (3,4) <--> (2,4) ; (4,2) <--> (4,3) ; (0,0) <--> (0,1) ; (0,3) <--> (0,2) ; (4,4) <--> (3,4) ; (4,3) <--> (4,4) ; (4,1) <--> (4,2) ; (2,1) <--> (2,2) ; (1,4) <--> (0,4) ; (1,2) <--> (0,2) ; (2,4) <--> (2,3) ; (4,0) <--> (3,0) ; (2,2) <--> (3,2) ; (1,2) <--> (2,2) ; (1,3) <--> (0,3) ; (3,2) <--> (3,3) ; (0,2) <--> (0,1) ; (3,1) <--> (3,2) ; (1,3) <--> (1,4) ; <ADJLIST_END> <ORIGIN_START> (1,3) <ORIGIN_END> <TARGET_START> (2,3) <TARGET_END> <PATH_START> (1,3) (0,3) (0,2) (1,2) (2,2) (2,1) (2,0) (3,0) (4,0) (4,1) (4,2) (4,3) (4,4) (3,4) (2,4) (2,3) <PATH_END>\n",
      "<ADJLIST_START> (2,1) <--> (2,2) ; (1,4) <--> (0,4) ; (2,4) <--> (1,4) ; (0,1) <--> (1,1) ; (1,0) <--> (2,0) ; (2,3) <--> (3,3) ; (3,3) <--> (3,4) ; (2,0) <--> (2,1) ; (1,3) <--> (1,2) ; (0,1) <--> (0,0) ; (1,3) <--> (1,4) ; (0,2) <--> (1,2) ; (4,0) <--> (3,0) ; (4,1) <--> (4,2) ; (3,1) <--> (2,1) ; (4,1) <--> (3,1) ; (2,3) <--> (2,4) ; (4,3) <--> (4,2) ; (2,0) <--> (3,0) ; (0,0) <--> (1,0) ; (4,3) <--> (4,4) ; (0,3) <--> (0,2) ; (3,2) <--> (2,2) ; (4,4) <--> (3,4) ; <ADJLIST_END> <ORIGIN_START> (3,4) <ORIGIN_END> <TARGET_START> (2,0) <TARGET_END> <PATH_START> (3,4) (4,4) (4,3) (4,2) (4,1) (3,1) (2,1) (2,0) <PATH_END>\n",
      "<ADJLIST_START> (0,0) <--> (1,0) ; (1,0) <--> (1,1) ; (0,1) <--> (0,0) ; (3,3) <--> (2,3) ; (2,3) <--> (2,4) ; (1,2) <--> (1,1) ; (3,3) <--> (4,3) ; (4,2) <--> (4,1) ; (3,4) <--> (2,4) ; (4,0) <--> (3,0) ; (1,3) <--> (0,3) ; (2,0) <--> (3,0) ; (1,4) <--> (0,4) ; (2,1) <--> (2,2) ; (4,0) <--> (4,1) ; (0,4) <--> (0,3) ; (3,2) <--> (3,3) ; (4,2) <--> (4,3) ; (3,1) <--> (4,1) ; (0,3) <--> (0,2) ; (4,4) <--> (3,4) ; (2,1) <--> (3,1) ; (1,4) <--> (2,4) ; (1,2) <--> (2,2) ; <ADJLIST_END> <ORIGIN_START> (0,0) <ORIGIN_END> <TARGET_START> (3,3) <TARGET_END> <PATH_START> (0,0) (1,0) (1,1) (1,2) (2,2) (2,1) (3,1) (4,1) (4,2) (4,3) (3,3) <PATH_END>\n",
      "<ADJLIST_START> (3,2) <--> (4,2) ; (0,0) <--> (0,1) ; (4,1) <--> (3,1) ; (3,3) <--> (2,3) ; (3,4) <--> (4,4) ; (1,1) <--> (2,1) ; (2,0) <--> (3,0) ; (3,1) <--> (2,1) ; (1,4) <--> (2,4) ; (3,0) <--> (4,0) ; (2,3) <--> (2,4) ; (1,1) <--> (1,0) ; (2,0) <--> (1,0) ; (0,1) <--> (0,2) ; (1,0) <--> (0,0) ; (0,3) <--> (0,2) ; (4,2) <--> (4,3) ; (1,4) <--> (1,3) ; (1,2) <--> (0,2) ; (3,3) <--> (3,2) ; (4,2) <--> (4,1) ; (4,3) <--> (4,4) ; (1,2) <--> (2,2) ; (0,3) <--> (0,4) ; <ADJLIST_END> <ORIGIN_START> (0,1) <ORIGIN_END> <TARGET_START> (1,0) <TARGET_END> <PATH_START> (0,1) (0,0) (1,0) <PATH_END>\n",
      "<ADJLIST_START> (2,2) <--> (3,2) ; (0,2) <--> (0,3) ; (1,3) <--> (1,2) ; (2,1) <--> (1,1) ; (1,4) <--> (2,4) ; (4,4) <--> (4,3) ; (4,2) <--> (4,3) ; (2,3) <--> (2,4) ; (2,3) <--> (3,3) ; (4,1) <--> (4,2) ; (4,1) <--> (3,1) ; (0,0) <--> (0,1) ; (2,2) <--> (1,2) ; (4,4) <--> (3,4) ; (0,2) <--> (0,1) ; (3,3) <--> (3,2) ; (1,0) <--> (0,0) ; (0,4) <--> (1,4) ; (1,1) <--> (1,2) ; (4,0) <--> (4,1) ; (0,4) <--> (0,3) ; (3,1) <--> (2,1) ; (2,0) <--> (1,0) ; (3,0) <--> (4,0) ; <ADJLIST_END> <ORIGIN_START> (2,2) <ORIGIN_END> <TARGET_START> (1,0) <TARGET_END> <PATH_START> (2,2) (3,2) (3,3) (2,3) (2,4) (1,4) (0,4) (0,3) (0,2) (0,1) (0,0) (1,0) <PATH_END>\n"
     ]
    }
   ],
   "source": [
    "STRINGIFIED: list[str] = DATASET.as_tokens(TOKENIZER, join_tokens_individual_maze=True)\n",
    "print(\"\\n\".join(STRINGIFIED))"
   ]
  },
  {
   "cell_type": "code",
   "execution_count": 7,
   "metadata": {},
   "outputs": [
    {
     "data": {
      "text/html": [
       "<span style=\"color: black; background-color: rgb(160,151,115)\">&nbsp&lt;ADJLIST_START&gt;&nbsp</span> <span style=\"color: black; background-color: rgb(74,112,199)\">&nbsp(0,0)&nbsp</span> <span style=\"color: black; background-color: rgb(163,165,103)\">&nbsp&lt;--&gt;&nbsp</span> <span style=\"color: black; background-color: rgb(83,253,226)\">&nbsp(1,0)&nbsp</span> <span style=\"color: black; background-color: rgb(111,253,216)\">&nbsp;&nbsp</span> <span style=\"color: black; background-color: rgb(98,152,92)\">&nbsp(2,0)&nbsp</span> <span style=\"color: black; background-color: rgb(145,127,109)\">&nbsp&lt;--&gt;&nbsp</span> <span style=\"color: black; background-color: rgb(81,193,53)\">&nbsp(3,0)&nbsp</span> <span style=\"color: black; background-color: rgb(162,207,188)\">&nbsp;&nbsp</span> <span style=\"color: black; background-color: rgb(168,227,160)\">&nbsp(4,1)&nbsp</span> <span style=\"color: black; background-color: rgb(67,32,141)\">&nbsp&lt;--&gt;&nbsp</span> <span style=\"color: black; background-color: rgb(20,47,147)\">&nbsp(4,0)&nbsp</span> <span style=\"color: black; background-color: rgb(247,127,135)\">&nbsp;&nbsp</span> <span style=\"color: black; background-color: rgb(134,194,144)\">&nbsp(2,0)&nbsp</span> <span style=\"color: black; background-color: rgb(127,32,175)\">&nbsp&lt;--&gt;&nbsp</span> <span style=\"color: black; background-color: rgb(203,186,114)\">&nbsp(2,1)&nbsp</span> <span style=\"color: black; background-color: rgb(213,118,21)\">&nbsp;&nbsp</span> <span style=\"color: black; background-color: rgb(237,157,37)\">&nbsp(1,0)&nbsp</span> <span style=\"color: black; background-color: rgb(229,108,50)\">&nbsp&lt;--&gt;&nbsp</span> <span style=\"color: black; background-color: rgb(181,7,26)\">&nbsp(1,1)&nbsp</span> <span style=\"color: black; background-color: rgb(26,225,20)\">&nbsp;&nbsp</span> <span style=\"color: black; background-color: rgb(29,96,27)\">&nbsp(3,4)&nbsp</span> <span style=\"color: black; background-color: rgb(110,191,224)\">&nbsp&lt;--&gt;&nbsp</span> <span style=\"color: black; background-color: rgb(196,251,60)\">&nbsp(2,4)&nbsp</span> <span style=\"color: black; background-color: rgb(47,146,3)\">&nbsp;&nbsp</span> <span style=\"color: black; background-color: rgb(34,191,48)\">&nbsp(4,2)&nbsp</span> <span style=\"color: black; background-color: rgb(16,171,219)\">&nbsp&lt;--&gt;&nbsp</span> <span style=\"color: black; background-color: rgb(157,220,45)\">&nbsp(4,3)&nbsp</span> <span style=\"color: black; background-color: rgb(116,5,98)\">&nbsp;&nbsp</span> <span style=\"color: black; background-color: rgb(123,232,36)\">&nbsp(0,0)&nbsp</span> <span style=\"color: black; background-color: rgb(23,92,240)\">&nbsp&lt;--&gt;&nbsp</span> <span style=\"color: black; background-color: rgb(45,180,94)\">&nbsp(0,1)&nbsp</span> <span style=\"color: black; background-color: rgb(98,187,224)\">&nbsp;&nbsp</span> <span style=\"color: black; background-color: rgb(115,190,252)\">&nbsp(0,3)&nbsp</span> <span style=\"color: black; background-color: rgb(212,159,214)\">&nbsp&lt;--&gt;&nbsp</span> <span style=\"color: black; background-color: rgb(160,66,127)\">&nbsp(0,2)&nbsp</span> <span style=\"color: black; background-color: rgb(17,24,233)\">&nbsp;&nbsp</span> <span style=\"color: black; background-color: rgb(222,53,57)\">&nbsp(4,4)&nbsp</span> <span style=\"color: black; background-color: rgb(66,103,173)\">&nbsp&lt;--&gt;&nbsp</span> <span style=\"color: black; background-color: rgb(23,113,31)\">&nbsp(3,4)&nbsp</span> <span style=\"color: black; background-color: rgb(174,85,150)\">&nbsp;&nbsp</span> <span style=\"color: black; background-color: rgb(193,126,154)\">&nbsp(4,3)&nbsp</span> <span style=\"color: black; background-color: rgb(233,129,217)\">&nbsp&lt;--&gt;&nbsp</span> <span style=\"color: black; background-color: rgb(16,103,160)\">&nbsp(4,4)&nbsp</span> <span style=\"color: black; background-color: rgb(136,42,245)\">&nbsp;&nbsp</span> <span style=\"color: black; background-color: rgb(175,38,220)\">&nbsp(4,1)&nbsp</span> <span style=\"color: black; background-color: rgb(169,246,25)\">&nbsp&lt;--&gt;&nbsp</span> <span style=\"color: black; background-color: rgb(98,49,152)\">&nbsp(4,2)&nbsp</span> <span style=\"color: black; background-color: rgb(151,12,59)\">&nbsp;&nbsp</span> <span style=\"color: black; background-color: rgb(249,134,56)\">&nbsp(2,1)&nbsp</span> <span style=\"color: black; background-color: rgb(35,172,19)\">&nbsp&lt;--&gt;&nbsp</span> <span style=\"color: black; background-color: rgb(64,7,237)\">&nbsp(2,2)&nbsp</span> <span style=\"color: black; background-color: rgb(143,141,203)\">&nbsp;&nbsp</span> <span style=\"color: black; background-color: rgb(114,214,142)\">&nbsp(1,4)&nbsp</span> <span style=\"color: black; background-color: rgb(91,97,65)\">&nbsp&lt;--&gt;&nbsp</span> <span style=\"color: black; background-color: rgb(31,214,190)\">&nbsp(0,4)&nbsp</span> <span style=\"color: black; background-color: rgb(85,50,152)\">&nbsp;&nbsp</span> <span style=\"color: black; background-color: rgb(185,62,189)\">&nbsp(1,2)&nbsp</span> <span style=\"color: black; background-color: rgb(124,149,57)\">&nbsp&lt;--&gt;&nbsp</span> <span style=\"color: black; background-color: rgb(57,85,48)\">&nbsp(0,2)&nbsp</span> <span style=\"color: black; background-color: rgb(179,169,69)\">&nbsp;&nbsp</span> <span style=\"color: black; background-color: rgb(14,53,234)\">&nbsp(2,4)&nbsp</span> <span style=\"color: black; background-color: rgb(187,100,224)\">&nbsp&lt;--&gt;&nbsp</span> <span style=\"color: black; background-color: rgb(7,52,59)\">&nbsp(2,3)&nbsp</span> <span style=\"color: black; background-color: rgb(235,107,4)\">&nbsp;&nbsp</span> <span style=\"color: black; background-color: rgb(102,195,5)\">&nbsp(4,0)&nbsp</span> <span style=\"color: black; background-color: rgb(108,223,115)\">&nbsp&lt;--&gt;&nbsp</span> <span style=\"color: black; background-color: rgb(93,46,98)\">&nbsp(3,0)&nbsp</span> <span style=\"color: black; background-color: rgb(54,167,51)\">&nbsp;&nbsp</span> <span style=\"color: black; background-color: rgb(143,12,113)\">&nbsp(2,2)&nbsp</span> <span style=\"color: black; background-color: rgb(123,105,157)\">&nbsp&lt;--&gt;&nbsp</span> <span style=\"color: black; background-color: rgb(146,144,119)\">&nbsp(3,2)&nbsp</span> <span style=\"color: black; background-color: rgb(62,18,91)\">&nbsp;&nbsp</span> <span style=\"color: black; background-color: rgb(57,182,89)\">&nbsp(1,2)&nbsp</span> <span style=\"color: black; background-color: rgb(228,217,116)\">&nbsp&lt;--&gt;&nbsp</span> <span style=\"color: black; background-color: rgb(61,22,126)\">&nbsp(2,2)&nbsp</span> <span style=\"color: black; background-color: rgb(136,139,244)\">&nbsp;&nbsp</span> <span style=\"color: black; background-color: rgb(128,57,121)\">&nbsp(1,3)&nbsp</span> <span style=\"color: black; background-color: rgb(0,238,33)\">&nbsp&lt;--&gt;&nbsp</span> <span style=\"color: black; background-color: rgb(95,125,117)\">&nbsp(0,3)&nbsp</span> <span style=\"color: black; background-color: rgb(47,88,231)\">&nbsp;&nbsp</span> <span style=\"color: black; background-color: rgb(236,116,128)\">&nbsp(3,2)&nbsp</span> <span style=\"color: black; background-color: rgb(15,188,230)\">&nbsp&lt;--&gt;&nbsp</span> <span style=\"color: black; background-color: rgb(191,190,68)\">&nbsp(3,3)&nbsp</span> <span style=\"color: black; background-color: rgb(21,92,246)\">&nbsp;&nbsp</span> <span style=\"color: black; background-color: rgb(194,75,153)\">&nbsp(0,2)&nbsp</span> <span style=\"color: black; background-color: rgb(143,178,228)\">&nbsp&lt;--&gt;&nbsp</span> <span style=\"color: black; background-color: rgb(85,184,28)\">&nbsp(0,1)&nbsp</span> <span style=\"color: black; background-color: rgb(205,219,68)\">&nbsp;&nbsp</span> <span style=\"color: black; background-color: rgb(46,240,93)\">&nbsp(3,1)&nbsp</span> <span style=\"color: black; background-color: rgb(237,189,243)\">&nbsp&lt;--&gt;&nbsp</span> <span style=\"color: black; background-color: rgb(196,203,143)\">&nbsp(3,2)&nbsp</span> <span style=\"color: black; background-color: rgb(217,217,175)\">&nbsp;&nbsp</span> <span style=\"color: black; background-color: rgb(84,38,99)\">&nbsp(1,3)&nbsp</span> <span style=\"color: black; background-color: rgb(32,253,221)\">&nbsp&lt;--&gt;&nbsp</span> <span style=\"color: black; background-color: rgb(100,22,249)\">&nbsp(1,4)&nbsp</span> <span style=\"color: black; background-color: rgb(9,245,68)\">&nbsp;&nbsp</span> <span style=\"color: black; background-color: rgb(99,33,179)\">&nbsp&lt;ADJLIST_END&gt;&nbsp</span> <span style=\"color: black; background-color: rgb(222,137,249)\">&nbsp&lt;ORIGIN_START&gt;&nbsp</span> <span style=\"color: black; background-color: rgb(146,185,95)\">&nbsp(1,3)&nbsp</span> <span style=\"color: black; background-color: rgb(0,247,68)\">&nbsp&lt;ORIGIN_END&gt;&nbsp</span> <span style=\"color: black; background-color: rgb(236,3,15)\">&nbsp&lt;TARGET_START&gt;&nbsp</span> <span style=\"color: black; background-color: rgb(23,79,246)\">&nbsp(2,3)&nbsp</span> <span style=\"color: black; background-color: rgb(1,240,219)\">&nbsp&lt;TARGET_END&gt;&nbsp</span> <span style=\"color: black; background-color: rgb(127,159,218)\">&nbsp&lt;PATH_START&gt;&nbsp</span> <span style=\"color: black; background-color: rgb(83,151,139)\">&nbsp(1,3)&nbsp</span> <span style=\"color: black; background-color: rgb(177,162,123)\">&nbsp(0,3)&nbsp</span> <span style=\"color: black; background-color: rgb(32,160,188)\">&nbsp(0,2)&nbsp</span> <span style=\"color: black; background-color: rgb(178,170,100)\">&nbsp(1,2)&nbsp</span> <span style=\"color: black; background-color: rgb(11,66,64)\">&nbsp(2,2)&nbsp</span> <span style=\"color: black; background-color: rgb(160,167,73)\">&nbsp(2,1)&nbsp</span> <span style=\"color: black; background-color: rgb(42,43,28)\">&nbsp(2,0)&nbsp</span> <span style=\"color: black; background-color: rgb(140,11,94)\">&nbsp(3,0)&nbsp</span> <span style=\"color: black; background-color: rgb(45,129,252)\">&nbsp(4,0)&nbsp</span> <span style=\"color: black; background-color: rgb(242,241,34)\">&nbsp(4,1)&nbsp</span> <span style=\"color: black; background-color: rgb(214,80,89)\">&nbsp(4,2)&nbsp</span> <span style=\"color: black; background-color: rgb(7,92,153)\">&nbsp(4,3)&nbsp</span> <span style=\"color: black; background-color: rgb(201,89,253)\">&nbsp(4,4)&nbsp</span> <span style=\"color: black; background-color: rgb(161,114,104)\">&nbsp(3,4)&nbsp</span> <span style=\"color: black; background-color: rgb(134,195,57)\">&nbsp(2,4)&nbsp</span> <span style=\"color: black; background-color: rgb(244,113,236)\">&nbsp(2,3)&nbsp</span> <span style=\"color: black; background-color: rgb(74,156,119)\">&nbsp&lt;PATH_END&gt;&nbsp</span>"
      ],
      "text/plain": [
       "<IPython.core.display.HTML object>"
      ]
     },
     "metadata": {},
     "output_type": "display_data"
    },
    {
     "data": {
      "text/html": [
       "<span style=\"color: black; background-color: rgb(61,141,195)\">&nbsp&lt;ADJLIST_START&gt;&nbsp</span> <span style=\"color: black; background-color: rgb(12,86,160)\">&nbsp(0,0)&nbsp</span> <span style=\"color: black; background-color: rgb(234,242,250)\">&nbsp&lt;--&gt;&nbsp</span> <span style=\"color: black; background-color: rgb(8,48,107)\">&nbsp(1,0)&nbsp</span> <span style=\"color: black; background-color: rgb(8,52,113)\">&nbsp;&nbsp</span> <span style=\"color: black; background-color: rgb(61,141,195)\">&nbsp(2,0)&nbsp</span> <span style=\"color: black; background-color: rgb(94,165,209)\">&nbsp&lt;--&gt;&nbsp</span> <span style=\"color: black; background-color: rgb(152,199,223)\">&nbsp(3,0)&nbsp</span> <span style=\"color: black; background-color: rgb(24,102,172)\">&nbsp;&nbsp</span> <span style=\"color: black; background-color: rgb(76,153,202)\">&nbsp(4,1)&nbsp</span> <span style=\"color: black; background-color: rgb(31,111,179)\">&nbsp&lt;--&gt;&nbsp</span> <span style=\"color: black; background-color: rgb(8,74,146)\">&nbsp(4,0)&nbsp</span> <span style=\"color: black; background-color: rgb(47,127,188)\">&nbsp;&nbsp</span> <span style=\"color: black; background-color: rgb(155,200,224)\">&nbsp(2,0)&nbsp</span> <span style=\"color: black; background-color: rgb(8,61,126)\">&nbsp&lt;--&gt;&nbsp</span> <span style=\"color: black; background-color: rgb(221,234,246)\">&nbsp(2,1)&nbsp</span> <span style=\"color: black; background-color: rgb(17,93,165)\">&nbsp;&nbsp</span> <span style=\"color: black; background-color: rgb(8,60,125)\">&nbsp(1,0)&nbsp</span> <span style=\"color: black; background-color: rgb(8,70,140)\">&nbsp&lt;--&gt;&nbsp</span> <span style=\"color: black; background-color: rgb(161,203,226)\">&nbsp(1,1)&nbsp</span> <span style=\"color: black; background-color: rgb(76,153,202)\">&nbsp;&nbsp</span> <span style=\"color: black; background-color: rgb(78,154,202)\">&nbsp(3,4)&nbsp</span> <span style=\"color: black; background-color: rgb(34,114,181)\">&nbsp&lt;--&gt;&nbsp</span> <span style=\"color: black; background-color: rgb(8,78,151)\">&nbsp(2,4)&nbsp</span> <span style=\"color: black; background-color: rgb(221,234,246)\">&nbsp;&nbsp</span> <span style=\"color: black; background-color: rgb(241,247,253)\">&nbsp(4,2)&nbsp</span> <span style=\"color: black; background-color: rgb(133,188,219)\">&nbsp&lt;--&gt;&nbsp</span> <span style=\"color: black; background-color: rgb(41,121,185)\">&nbsp(4,3)&nbsp</span> <span style=\"color: black; background-color: rgb(240,246,252)\">&nbsp;&nbsp</span> <span style=\"color: black; background-color: rgb(232,241,250)\">&nbsp(0,0)&nbsp</span> <span style=\"color: black; background-color: rgb(12,86,160)\">&nbsp&lt;--&gt;&nbsp</span> <span style=\"color: black; background-color: rgb(155,200,224)\">&nbsp(0,1)&nbsp</span> <span style=\"color: black; background-color: rgb(146,195,222)\">&nbsp;&nbsp</span> <span style=\"color: black; background-color: rgb(227,238,248)\">&nbsp(0,3)&nbsp</span> <span style=\"color: black; background-color: rgb(237,244,251)\">&nbsp&lt;--&gt;&nbsp</span> <span style=\"color: black; background-color: rgb(133,188,219)\">&nbsp(0,2)&nbsp</span> <span style=\"color: black; background-color: rgb(202,221,240)\">&nbsp;&nbsp</span> <span style=\"color: black; background-color: rgb(176,209,231)\">&nbsp(4,4)&nbsp</span> <span style=\"color: black; background-color: rgb(135,189,220)\">&nbsp&lt;--&gt;&nbsp</span> <span style=\"color: black; background-color: rgb(12,86,160)\">&nbsp(3,4)&nbsp</span> <span style=\"color: black; background-color: rgb(173,208,230)\">&nbsp;&nbsp</span> <span style=\"color: black; background-color: rgb(90,163,207)\">&nbsp(4,3)&nbsp</span> <span style=\"color: black; background-color: rgb(37,117,183)\">&nbsp&lt;--&gt;&nbsp</span> <span style=\"color: black; background-color: rgb(236,243,251)\">&nbsp(4,4)&nbsp</span> <span style=\"color: black; background-color: rgb(47,127,188)\">&nbsp;&nbsp</span> <span style=\"color: black; background-color: rgb(154,199,224)\">&nbsp(4,1)&nbsp</span> <span style=\"color: black; background-color: rgb(92,163,208)\">&nbsp&lt;--&gt;&nbsp</span> <span style=\"color: black; background-color: rgb(35,115,182)\">&nbsp(4,2)&nbsp</span> <span style=\"color: black; background-color: rgb(8,68,137)\">&nbsp;&nbsp</span> <span style=\"color: black; background-color: rgb(83,157,204)\">&nbsp(2,1)&nbsp</span> <span style=\"color: black; background-color: rgb(186,214,234)\">&nbsp&lt;--&gt;&nbsp</span> <span style=\"color: black; background-color: rgb(243,248,253)\">&nbsp(2,2)&nbsp</span> <span style=\"color: black; background-color: rgb(26,104,174)\">&nbsp;&nbsp</span> <span style=\"color: black; background-color: rgb(228,239,249)\">&nbsp(1,4)&nbsp</span> <span style=\"color: black; background-color: rgb(20,97,168)\">&nbsp&lt;--&gt;&nbsp</span> <span style=\"color: black; background-color: rgb(8,79,153)\">&nbsp(0,4)&nbsp</span> <span style=\"color: black; background-color: rgb(109,175,214)\">&nbsp;&nbsp</span> <span style=\"color: black; background-color: rgb(209,226,242)\">&nbsp(1,2)&nbsp</span> <span style=\"color: black; background-color: rgb(177,210,231)\">&nbsp&lt;--&gt;&nbsp</span> <span style=\"color: black; background-color: rgb(8,51,111)\">&nbsp(0,2)&nbsp</span> <span style=\"color: black; background-color: rgb(136,190,220)\">&nbsp;&nbsp</span> <span style=\"color: black; background-color: rgb(87,160,206)\">&nbsp(2,4)&nbsp</span> <span style=\"color: black; background-color: rgb(127,184,218)\">&nbsp&lt;--&gt;&nbsp</span> <span style=\"color: black; background-color: rgb(195,217,238)\">&nbsp(2,3)&nbsp</span> <span style=\"color: black; background-color: rgb(155,200,224)\">&nbsp;&nbsp</span> <span style=\"color: black; background-color: rgb(92,163,208)\">&nbsp(4,0)&nbsp</span> <span style=\"color: black; background-color: rgb(231,240,249)\">&nbsp&lt;--&gt;&nbsp</span> <span style=\"color: black; background-color: rgb(44,124,187)\">&nbsp(3,0)&nbsp</span> <span style=\"color: black; background-color: rgb(117,179,216)\">&nbsp;&nbsp</span> <span style=\"color: black; background-color: rgb(15,90,163)\">&nbsp(2,2)&nbsp</span> <span style=\"color: black; background-color: rgb(8,73,145)\">&nbsp&lt;--&gt;&nbsp</span> <span style=\"color: black; background-color: rgb(209,226,242)\">&nbsp(3,2)&nbsp</span> <span style=\"color: black; background-color: rgb(78,154,202)\">&nbsp;&nbsp</span> <span style=\"color: black; background-color: rgb(87,160,206)\">&nbsp(1,2)&nbsp</span> <span style=\"color: black; background-color: rgb(206,224,241)\">&nbsp&lt;--&gt;&nbsp</span> <span style=\"color: black; background-color: rgb(219,233,246)\">&nbsp(2,2)&nbsp</span> <span style=\"color: black; background-color: rgb(139,192,221)\">&nbsp;&nbsp</span> <span style=\"color: black; background-color: rgb(43,123,186)\">&nbsp(1,3)&nbsp</span> <span style=\"color: black; background-color: rgb(217,231,245)\">&nbsp&lt;--&gt;&nbsp</span> <span style=\"color: black; background-color: rgb(38,118,183)\">&nbsp(0,3)&nbsp</span> <span style=\"color: black; background-color: rgb(58,138,193)\">&nbsp;&nbsp</span> <span style=\"color: black; background-color: rgb(89,162,207)\">&nbsp(3,2)&nbsp</span> <span style=\"color: black; background-color: rgb(8,79,153)\">&nbsp&lt;--&gt;&nbsp</span> <span style=\"color: black; background-color: rgb(119,180,216)\">&nbsp(3,3)&nbsp</span> <span style=\"color: black; background-color: rgb(101,170,211)\">&nbsp;&nbsp</span> <span style=\"color: black; background-color: rgb(62,142,196)\">&nbsp(0,2)&nbsp</span> <span style=\"color: black; background-color: rgb(13,88,161)\">&nbsp&lt;--&gt;&nbsp</span> <span style=\"color: black; background-color: rgb(8,82,156)\">&nbsp(0,1)&nbsp</span> <span style=\"color: black; background-color: rgb(8,66,134)\">&nbsp;&nbsp</span> <span style=\"color: black; background-color: rgb(187,214,235)\">&nbsp(3,1)&nbsp</span> <span style=\"color: black; background-color: rgb(84,158,205)\">&nbsp&lt;--&gt;&nbsp</span> <span style=\"color: black; background-color: rgb(8,62,128)\">&nbsp(3,2)&nbsp</span> <span style=\"color: black; background-color: rgb(186,214,234)\">&nbsp;&nbsp</span> <span style=\"color: black; background-color: rgb(243,248,253)\">&nbsp(1,3)&nbsp</span> <span style=\"color: black; background-color: rgb(188,215,235)\">&nbsp&lt;--&gt;&nbsp</span> <span style=\"color: black; background-color: rgb(38,118,183)\">&nbsp(1,4)&nbsp</span> <span style=\"color: black; background-color: rgb(8,65,133)\">&nbsp;&nbsp</span> <span style=\"color: black; background-color: rgb(85,159,205)\">&nbsp&lt;ADJLIST_END&gt;&nbsp</span> <span style=\"color: black; background-color: rgb(8,48,107)\">&nbsp&lt;ORIGIN_START&gt;&nbsp</span> <span style=\"color: black; background-color: rgb(8,71,142)\">&nbsp(1,3)&nbsp</span> <span style=\"color: black; background-color: rgb(245,249,254)\">&nbsp&lt;ORIGIN_END&gt;&nbsp</span> <span style=\"color: black; background-color: rgb(50,130,190)\">&nbsp&lt;TARGET_START&gt;&nbsp</span> <span style=\"color: black; background-color: rgb(90,163,207)\">&nbsp(2,3)&nbsp</span> <span style=\"color: black; background-color: rgb(57,137,193)\">&nbsp&lt;TARGET_END&gt;&nbsp</span> <span style=\"color: black; background-color: rgb(55,135,192)\">&nbsp&lt;PATH_START&gt;&nbsp</span> <span style=\"color: black; background-color: rgb(96,166,209)\">&nbsp(1,3)&nbsp</span> <span style=\"color: black; background-color: rgb(46,126,188)\">&nbsp(0,3)&nbsp</span> <span style=\"color: black; background-color: rgb(229,239,249)\">&nbsp(0,2)&nbsp</span> <span style=\"color: black; background-color: rgb(119,180,216)\">&nbsp(1,2)&nbsp</span> <span style=\"color: black; background-color: rgb(30,109,178)\">&nbsp(2,2)&nbsp</span> <span style=\"color: black; background-color: rgb(247,251,255)\">&nbsp(2,1)&nbsp</span> <span style=\"color: black; background-color: rgb(228,238,248)\">&nbsp(2,0)&nbsp</span> <span style=\"color: black; background-color: rgb(60,140,195)\">&nbsp(3,0)&nbsp</span> <span style=\"color: black; background-color: rgb(59,139,194)\">&nbsp(4,0)&nbsp</span> <span style=\"color: black; background-color: rgb(177,210,231)\">&nbsp(4,1)&nbsp</span> <span style=\"color: black; background-color: rgb(97,167,210)\">&nbsp(4,2)&nbsp</span> <span style=\"color: black; background-color: rgb(8,61,126)\">&nbsp(4,3)&nbsp</span> <span style=\"color: black; background-color: rgb(139,192,221)\">&nbsp(4,4)&nbsp</span> <span style=\"color: black; background-color: rgb(200,220,239)\">&nbsp(3,4)&nbsp</span> <span style=\"color: black; background-color: rgb(173,208,230)\">&nbsp(2,4)&nbsp</span> <span style=\"color: black; background-color: rgb(8,57,120)\">&nbsp(2,3)&nbsp</span> <span style=\"color: black; background-color: rgb(85,159,205)\">&nbsp&lt;PATH_END&gt;&nbsp</span>"
      ],
      "text/plain": [
       "<IPython.core.display.HTML object>"
      ]
     },
     "metadata": {},
     "output_type": "display_data"
    },
    {
     "data": {
      "text/html": [
       "<span style=\"color: black; background-color: rgb(217,210,233)\">&nbsp&lt;ADJLIST_START&gt; (0,0) &lt;--&gt; (1,0) ; (2,0) &lt;--&gt; (3,0) ; (4,1) &lt;--&gt; (4,0) ; (2,0) &lt;--&gt; (2,1) ; (1,0) &lt;--&gt; (1,1) ; (3,4) &lt;--&gt; (2,4) ; (4,2) &lt;--&gt; (4,3) ; (0,0) &lt;--&gt; (0,1) ; (0,3) &lt;--&gt; (0,2) ; (4,4) &lt;--&gt; (3,4) ; (4,3) &lt;--&gt; (4,4) ; (4,1) &lt;--&gt; (4,2) ; (2,1) &lt;--&gt; (2,2) ; (1,4) &lt;--&gt; (0,4) ; (1,2) &lt;--&gt; (0,2) ; (2,4) &lt;--&gt; (2,3) ; (4,0) &lt;--&gt; (3,0) ; (2,2) &lt;--&gt; (3,2) ; (1,2) &lt;--&gt; (2,2) ; (1,3) &lt;--&gt; (0,3) ; (3,2) &lt;--&gt; (3,3) ; (0,2) &lt;--&gt; (0,1) ; (3,1) &lt;--&gt; (3,2) ; (1,3) &lt;--&gt; (1,4) ; &lt;ADJLIST_END&gt;&nbsp</span> <span style=\"color: black; background-color: rgb(217,234,211)\">&nbsp&lt;ORIGIN_START&gt; (1,3) &lt;ORIGIN_END&gt;&nbsp</span> <span style=\"color: black; background-color: rgb(234,209,220)\">&nbsp&lt;TARGET_START&gt; (2,3) &lt;TARGET_END&gt;&nbsp</span> <span style=\"color: black; background-color: rgb(207,226,243)\">&nbsp&lt;PATH_START&gt; (1,3) (0,3) (0,2) (1,2) (2,2) (2,1) (2,0) (3,0) (4,0) (4,1) (4,2) (4,3) (4,4) (3,4) (2,4) (2,3) &lt;PATH_END&gt;&nbsp</span>"
      ],
      "text/plain": [
       "<IPython.core.display.HTML object>"
      ]
     },
     "metadata": {},
     "output_type": "display_data"
    }
   ],
   "source": [
    "from maze_dataset.plotting.print_tokens import color_maze_tokens_AOTP\n",
    "\n",
    "\n",
    "x = STRINGIFIED[0].split()\n",
    "display_color_tokens_rgb(x, np.random.randint(0, 255, (len(x),3)))\n",
    "display_color_tokens_cmap(x, np.random.randint(0, 255, len(x)))\n",
    "display_color_maze_tokens_AOTP(x)"
   ]
  },
  {
   "attachments": {},
   "cell_type": "markdown",
   "metadata": {},
   "source": [
    "now let's see how we can take the actual tokenized data to a `SolvedMaze`."
   ]
  },
  {
   "cell_type": "code",
   "execution_count": 8,
   "metadata": {},
   "outputs": [
    {
     "name": "stdout",
     "output_type": "stream",
     "text": [
      "#######\n",
      "#S    #\n",
      "#X### #\n",
      "#X# # #\n",
      "#X# ###\n",
      "#XXE  #\n",
      "#######\n",
      "<ADJLIST_START> (0,0) <--> (0,1) ; (2,1) <--> (2,2) ; (1,1) <--> (2,1) ; (1,0) <--> (0,0) ; (2,1) <--> (2,0) ; (0,2) <--> (0,1) ; (2,0) <--> (1,0) ; (1,2) <--> (0,2) ; <ADJLIST_END> <ORIGIN_START> (0,0) <ORIGIN_END> <TARGET_START> (2,1) <TARGET_END> <PATH_START> (0,0) (1,0) (2,0) (2,1) <PATH_END>\n"
     ]
    }
   ],
   "source": [
    "maze_toks: list[str] = \"\"\"<ADJLIST_START> (1,1) <--> (2,1) ; (2,0) <--> (1,0) ; (0,1) <--> (0,0) ; (2,2) <--> (2,1) ; (2,0) <--> (2,1) ; (0,2) <--> (1,2) ; (0,0) <--> (1,0) ; (0,2) <--> (0,1) ; <ADJLIST_END> <ORIGIN_START> (0,0) <ORIGIN_END> <TARGET_START> (2,1) <TARGET_END> <PATH_START> (0,0) (1,0) (2,0) (2,1) <PATH_END>\"\"\".split()\n",
    "maze_encoded: list[int] = TOKENIZER.encode(maze_toks)\n",
    "maze_tok_roundtrip: list[str] = TOKENIZER.decode(maze_encoded)\n",
    "assert maze_toks == maze_tok_roundtrip\n",
    "\n",
    "maze_from_toks: SolvedMaze = SolvedMaze.from_tokens(maze_toks, TOKENIZER)\n",
    "\n",
    "print(maze_from_toks.as_ascii())\n",
    "print(\" \".join(maze_from_toks.as_tokens(TOKENIZER)))\n"
   ]
  },
  {
   "attachments": {},
   "cell_type": "markdown",
   "metadata": {},
   "source": [
    "# Vocab index\n",
    "\n",
    "special tokens come first, but then there are a few choices for the rest of the tokens:\n",
    "\n",
    "- `TokenizationMode.AOTP_UT_rasterized`: unique token for each coord, order is simple rasterization\n",
    "- `TokenizationMode.AOTP_UT_uniform`: unique token for each coord, order assembled to preserve uniformity regardless of maze size\n",
    "- `TokenizationMode.AOTP_indexed`: (experimental) each coordinate is 5 tokens: `( i , j )` where `i` and `j` are the coordinates\n"
   ]
  },
  {
   "cell_type": "code",
   "execution_count": 12,
   "metadata": {},
   "outputs": [
    {
     "data": {
      "image/png": "[encoded data removed]",
      "text/plain": [
       "<Figure size 200x200 with 1 Axes>"
      ]
     },
     "metadata": {},
     "output_type": "display_data"
    }
   ],
   "source": [
    "def plot_corner_first_ndindex(n: int, ndim: int = 2):\n",
    "    \"\"\"\n",
    "    Plot a figure that shows the order of each grid point in the list \n",
    "    provided by the function corner_first_ndindex.\n",
    "    \"\"\"\n",
    "    indices = corner_first_ndindex(n, ndim)\n",
    "    \n",
    "    # Create a 2D grid to store the order of each index\n",
    "    grid = np.zeros((n, n), dtype=int)\n",
    "    \n",
    "    for order, (x, y) in enumerate(indices):\n",
    "        grid[x, y] = order + 1  # Adding 1 to start the order from 1 instead of 0\n",
    "    \n",
    "    fig, ax = plt.subplots(figsize=(2, 2))\n",
    "    \n",
    "    # Plot the grid\n",
    "    cax = ax.matshow(grid, cmap=plt.cm.Blues)\n",
    "    \n",
    "    # Annotate each cell with its order\n",
    "    for i in range(n):\n",
    "        for j in range(n):\n",
    "            c = grid[j, i]\n",
    "            ax.text(i, j, str(c), va='center', ha='center')\n",
    "    \n",
    "    # plt.title('Order of Grid Points in Vocabulary')\n",
    "    # plt.xlabel('X-axis')\n",
    "    # plt.ylabel('Y-axis')\n",
    "    # plt.colorbar(cax)\n",
    "    # plt.savefig(\"corner-first-vocab.pdf\")\n",
    "    plt.show()\n",
    "\n",
    "# Example plot for n=3\n",
    "plot_corner_first_ndindex(5)"
   ]
  }
 ],
 "metadata": {
  "kernelspec": {
   "display_name": "maze-dataset-K69OfPxp-py3.10",
   "language": "python",
   "name": "python3"
  },
  "language_info": {
   "codemirror_mode": {
    "name": "ipython",
    "version": 3
   },
   "file_extension": ".py",
   "mimetype": "text/x-python",
   "name": "python",
   "nbconvert_exporter": "python",
   "pygments_lexer": "ipython3",
   "version": "3.11.4"
  },
  "orig_nbformat": 4
 },
 "nbformat": 4,
 "nbformat_minor": 2
}
