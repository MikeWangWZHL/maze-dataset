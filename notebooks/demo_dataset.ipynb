{
 "cells": [
  {
   "cell_type": "code",
   "execution_count": 1,
   "metadata": {},
   "outputs": [
    {
     "name": "stdout",
     "output_type": "stream",
     "text": [
      "dict_keys(['test-g3-n5-a_dfs-h81250', 'demo_small-g3-n100-a_dfs-h12257', 'demo-g6-n10K-a_dfs-h76502'])\n"
     ]
    }
   ],
   "source": [
    "import json\n",
    "\n",
    "import matplotlib.pyplot as plt # keep this import for CI to work\n",
    "from zanj import ZANJ\n",
    "from muutils.mlutils import pprint_summary\n",
    "\n",
    "from maze_dataset import SolvedMaze, MazeDataset, MazeDatasetConfig\n",
    "from maze_dataset.generation import LatticeMazeGenerators\n",
    "from maze_dataset.dataset.configs import MAZE_DATASET_CONFIGS\n",
    "from maze_dataset.plotting import plot_dataset_mazes, print_dataset_mazes\n",
    "\n",
    "print(MAZE_DATASET_CONFIGS.keys())\n",
    "\n",
    "LOCAL_DATA_PATH: str = \"../data/maze_dataset/\""
   ]
  },
  {
   "attachments": {},
   "cell_type": "markdown",
   "metadata": {},
   "source": [
    "you should always see `test-g3-n5-a_dfs-h90179` in the list of available dataset configs"
   ]
  },
  {
   "cell_type": "code",
   "execution_count": 2,
   "metadata": {},
   "outputs": [
    {
     "name": "stdout",
     "output_type": "stream",
     "text": [
      "test-g32-n32-a_wilson-h95876\n"
     ]
    }
   ],
   "source": [
    "zanj: ZANJ = ZANJ(external_list_threshold=256)\n",
    "cfg: MazeDatasetConfig = MazeDatasetConfig(\n",
    "\tname=\"test\",\n",
    "\tgrid_n=32,\n",
    "\tn_mazes=32,\n",
    "\tmaze_ctor=LatticeMazeGenerators.gen_wilson,\n",
    ")\n",
    "\n",
    "print(cfg.to_fname())"
   ]
  },
  {
   "cell_type": "code",
   "execution_count": 3,
   "metadata": {},
   "outputs": [
    {
     "name": "stdout",
     "output_type": "stream",
     "text": [
      "generating dataset...\n"
     ]
    },
    {
     "name": "stderr",
     "output_type": "stream",
     "text": [
      "generating & solving mazes:   0%|          | 0/32 [00:00<?, ?maze/s]\n"
     ]
    },
    {
     "ename": "IndexError",
     "evalue": "too many indices for array: array is 0-dimensional, but 1 were indexed",
     "output_type": "error",
     "traceback": [
      "\u001b[1;31m---------------------------------------------------------------------------\u001b[0m",
      "\u001b[1;31mIndexError\u001b[0m                                Traceback (most recent call last)",
      "Cell \u001b[1;32mIn[3], line 1\u001b[0m\n\u001b[1;32m----> 1\u001b[0m dataset: MazeDataset \u001b[39m=\u001b[39m MazeDataset\u001b[39m.\u001b[39;49mfrom_config(\n\u001b[0;32m      2\u001b[0m \tcfg,\n\u001b[0;32m      3\u001b[0m \tdo_download\u001b[39m=\u001b[39;49m\u001b[39mFalse\u001b[39;49;00m,\n\u001b[0;32m      4\u001b[0m \tload_local\u001b[39m=\u001b[39;49m\u001b[39mFalse\u001b[39;49;00m,\n\u001b[0;32m      5\u001b[0m \tdo_generate\u001b[39m=\u001b[39;49m\u001b[39mTrue\u001b[39;49;00m,\n\u001b[0;32m      6\u001b[0m     save_local\u001b[39m=\u001b[39;49m\u001b[39mTrue\u001b[39;49;00m,\n\u001b[0;32m      7\u001b[0m \tlocal_base_path\u001b[39m=\u001b[39;49mLOCAL_DATA_PATH,\n\u001b[0;32m      8\u001b[0m \tverbose\u001b[39m=\u001b[39;49m\u001b[39mTrue\u001b[39;49;00m,\n\u001b[0;32m      9\u001b[0m \tzanj\u001b[39m=\u001b[39;49mzanj,\n\u001b[0;32m     10\u001b[0m \tgen_parallel\u001b[39m=\u001b[39;49m\u001b[39mFalse\u001b[39;49;00m, \u001b[39m# parallel generation has overhead, not worth it unless you're doing a lot of mazes\u001b[39;49;00m\n\u001b[0;32m     11\u001b[0m )\n",
      "File \u001b[1;32mF:\\KNC\\maze-dataset\\maze_dataset\\dataset\\dataset.py:237\u001b[0m, in \u001b[0;36mGPTDataset.from_config\u001b[1;34m(cls, cfg, do_generate, load_local, save_local, zanj, do_download, local_base_path, except_on_config_mismatch, verbose, **kwargs)\u001b[0m\n\u001b[0;32m    235\u001b[0m \u001b[39mif\u001b[39;00m do_generate \u001b[39mand\u001b[39;00m output \u001b[39mis\u001b[39;00m \u001b[39mNone\u001b[39;00m:\n\u001b[0;32m    236\u001b[0m     print_log(\u001b[39m\"\u001b[39m\u001b[39mgenerating dataset...\u001b[39m\u001b[39m\"\u001b[39m)\n\u001b[1;32m--> 237\u001b[0m     output \u001b[39m=\u001b[39m \u001b[39mcls\u001b[39;49m\u001b[39m.\u001b[39;49mgenerate(cfg, verbose\u001b[39m=\u001b[39;49mverbose, \u001b[39m*\u001b[39;49m\u001b[39m*\u001b[39;49mkwargs)\n\u001b[0;32m    238\u001b[0m     \u001b[39m# only if we generated it, apply filters\u001b[39;00m\n\u001b[0;32m    239\u001b[0m     output \u001b[39m=\u001b[39m output\u001b[39m.\u001b[39m_apply_filters_from_config()\n",
      "File \u001b[1;32mF:\\KNC\\maze-dataset\\maze_dataset\\dataset\\maze_dataset.py:251\u001b[0m, in \u001b[0;36mMazeDataset.generate\u001b[1;34m(cls, cfg, gen_parallel, pool_kwargs, verbose)\u001b[0m\n\u001b[0;32m    249\u001b[0m \u001b[39melse\u001b[39;00m:\n\u001b[0;32m    250\u001b[0m     _maze_gen_init_worker(cfg_cpy)\n\u001b[1;32m--> 251\u001b[0m     solved_mazes \u001b[39m=\u001b[39m \u001b[39mlist\u001b[39;49m(\n\u001b[0;32m    252\u001b[0m         tqdm\u001b[39m.\u001b[39;49mtqdm(\n\u001b[0;32m    253\u001b[0m             \u001b[39mmap\u001b[39;49m(\n\u001b[0;32m    254\u001b[0m                 _generate_maze_helper,\n\u001b[0;32m    255\u001b[0m                 maze_indexes,\n\u001b[0;32m    256\u001b[0m             ),\n\u001b[0;32m    257\u001b[0m             \u001b[39m*\u001b[39;49m\u001b[39m*\u001b[39;49mtqdm_kwargs,\n\u001b[0;32m    258\u001b[0m         )\n\u001b[0;32m    259\u001b[0m     )\n\u001b[0;32m    260\u001b[0m \u001b[39m# reset seed to default value\u001b[39;00m\n\u001b[0;32m    261\u001b[0m np\u001b[39m.\u001b[39mrandom\u001b[39m.\u001b[39mseed(cfg_cpy\u001b[39m.\u001b[39mseed)\n",
      "File \u001b[1;32mc:\\Users\\mivan\\AppData\\Local\\pypoetry\\Cache\\virtualenvs\\maze-dataset-K69OfPxp-py3.11\\Lib\\site-packages\\tqdm\\std.py:1178\u001b[0m, in \u001b[0;36mtqdm.__iter__\u001b[1;34m(self)\u001b[0m\n\u001b[0;32m   1175\u001b[0m time \u001b[39m=\u001b[39m \u001b[39mself\u001b[39m\u001b[39m.\u001b[39m_time\n\u001b[0;32m   1177\u001b[0m \u001b[39mtry\u001b[39;00m:\n\u001b[1;32m-> 1178\u001b[0m     \u001b[39mfor\u001b[39;00m obj \u001b[39min\u001b[39;00m iterable:\n\u001b[0;32m   1179\u001b[0m         \u001b[39myield\u001b[39;00m obj\n\u001b[0;32m   1180\u001b[0m         \u001b[39m# Update and possibly print the progressbar.\u001b[39;00m\n\u001b[0;32m   1181\u001b[0m         \u001b[39m# Note: does not call self.update(1) for speed optimisation.\u001b[39;00m\n",
      "File \u001b[1;32mF:\\KNC\\maze-dataset\\maze_dataset\\dataset\\maze_dataset.py:131\u001b[0m, in \u001b[0;36m_generate_maze_helper\u001b[1;34m(index)\u001b[0m\n\u001b[0;32m    126\u001b[0m \u001b[39mdef\u001b[39;00m \u001b[39m_generate_maze_helper\u001b[39m(index: \u001b[39mint\u001b[39m) \u001b[39m-\u001b[39m\u001b[39m>\u001b[39m SolvedMaze:\n\u001b[0;32m    127\u001b[0m     maze: LatticeMaze \u001b[39m=\u001b[39m _GLOBAL_WORKER_CONFIG\u001b[39m.\u001b[39mmaze_ctor(\n\u001b[0;32m    128\u001b[0m         grid_shape\u001b[39m=\u001b[39m_GLOBAL_WORKER_CONFIG\u001b[39m.\u001b[39mgrid_shape_np,\n\u001b[0;32m    129\u001b[0m         \u001b[39m*\u001b[39m\u001b[39m*\u001b[39m_GLOBAL_WORKER_CONFIG\u001b[39m.\u001b[39mmaze_ctor_kwargs,\n\u001b[0;32m    130\u001b[0m     )\n\u001b[1;32m--> 131\u001b[0m     \u001b[39mreturn\u001b[39;00m SolvedMaze\u001b[39m.\u001b[39;49mfrom_lattice_maze(\n\u001b[0;32m    132\u001b[0m         lattice_maze\u001b[39m=\u001b[39;49mmaze,\n\u001b[0;32m    133\u001b[0m         solution\u001b[39m=\u001b[39;49mmaze\u001b[39m.\u001b[39;49mgenerate_random_path(),\n\u001b[0;32m    134\u001b[0m     )\n",
      "File \u001b[1;32mF:\\KNC\\maze-dataset\\maze_dataset\\maze\\lattice_maze.py:982\u001b[0m, in \u001b[0;36mSolvedMaze.from_lattice_maze\u001b[1;34m(cls, lattice_maze, solution)\u001b[0m\n\u001b[0;32m    978\u001b[0m \u001b[39m@classmethod\u001b[39m\n\u001b[0;32m    979\u001b[0m \u001b[39mdef\u001b[39;00m \u001b[39mfrom_lattice_maze\u001b[39m(\n\u001b[0;32m    980\u001b[0m     \u001b[39mcls\u001b[39m, lattice_maze: LatticeMaze, solution: \u001b[39mlist\u001b[39m[CoordTup]\n\u001b[0;32m    981\u001b[0m ) \u001b[39m-\u001b[39m\u001b[39m>\u001b[39m \u001b[39m\"\u001b[39m\u001b[39mSolvedMaze\u001b[39m\u001b[39m\"\u001b[39m:\n\u001b[1;32m--> 982\u001b[0m     \u001b[39mreturn\u001b[39;00m \u001b[39mcls\u001b[39;49m(\n\u001b[0;32m    983\u001b[0m         connection_list\u001b[39m=\u001b[39;49mlattice_maze\u001b[39m.\u001b[39;49mconnection_list,\n\u001b[0;32m    984\u001b[0m         solution\u001b[39m=\u001b[39;49msolution,\n\u001b[0;32m    985\u001b[0m         generation_meta\u001b[39m=\u001b[39;49mlattice_maze\u001b[39m.\u001b[39;49mgeneration_meta,\n\u001b[0;32m    986\u001b[0m     )\n",
      "File \u001b[1;32mF:\\KNC\\maze-dataset\\maze_dataset\\maze\\lattice_maze.py:940\u001b[0m, in \u001b[0;36mSolvedMaze.__init__\u001b[1;34m(self, connection_list, solution, generation_meta, start_pos, end_pos, allow_invalid)\u001b[0m\n\u001b[0;32m    930\u001b[0m \u001b[39mdef\u001b[39;00m \u001b[39m__init__\u001b[39m(\n\u001b[0;32m    931\u001b[0m     \u001b[39mself\u001b[39m,\n\u001b[0;32m    932\u001b[0m     connection_list: ConnectionList,\n\u001b[1;32m   (...)\u001b[0m\n\u001b[0;32m    937\u001b[0m     allow_invalid: \u001b[39mbool\u001b[39m \u001b[39m=\u001b[39m \u001b[39mFalse\u001b[39;00m,\n\u001b[0;32m    938\u001b[0m ) \u001b[39m-\u001b[39m\u001b[39m>\u001b[39m \u001b[39mNone\u001b[39;00m:\n\u001b[0;32m    939\u001b[0m     solution_valid: \u001b[39mbool\u001b[39m \u001b[39m=\u001b[39m (solution \u001b[39mis\u001b[39;00m \u001b[39mnot\u001b[39;00m \u001b[39mNone\u001b[39;00m \u001b[39mand\u001b[39;00m \u001b[39mlen\u001b[39m(solution) \u001b[39m>\u001b[39m \u001b[39m0\u001b[39m)\n\u001b[1;32m--> 940\u001b[0m     \u001b[39msuper\u001b[39;49m()\u001b[39m.\u001b[39;49m\u001b[39m__init__\u001b[39;49m(\n\u001b[0;32m    941\u001b[0m         connection_list\u001b[39m=\u001b[39;49mconnection_list,\n\u001b[0;32m    942\u001b[0m         generation_meta\u001b[39m=\u001b[39;49mgeneration_meta,\n\u001b[0;32m    943\u001b[0m         start_pos\u001b[39m=\u001b[39;49mnp\u001b[39m.\u001b[39;49marray(solution[\u001b[39m0\u001b[39;49m]) \u001b[39mif\u001b[39;49;00m solution_valid \u001b[39melse\u001b[39;49;00m \u001b[39mNone\u001b[39;49;00m,\n\u001b[0;32m    944\u001b[0m         end_pos\u001b[39m=\u001b[39;49mnp\u001b[39m.\u001b[39;49marray(solution[\u001b[39m-\u001b[39;49m\u001b[39m1\u001b[39;49m]) \u001b[39mif\u001b[39;49;00m solution_valid \u001b[39melse\u001b[39;49;00m \u001b[39mNone\u001b[39;49;00m,\n\u001b[0;32m    945\u001b[0m     )\n\u001b[0;32m    946\u001b[0m     \u001b[39mself\u001b[39m\u001b[39m.\u001b[39m\u001b[39m__dict__\u001b[39m[\u001b[39m\"\u001b[39m\u001b[39msolution\u001b[39m\u001b[39m\"\u001b[39m] \u001b[39m=\u001b[39m solution\n\u001b[0;32m    948\u001b[0m     \u001b[39mif\u001b[39;00m \u001b[39mnot\u001b[39;00m allow_invalid:\n",
      "File \u001b[1;32m<string>:7\u001b[0m, in \u001b[0;36m__init__\u001b[1;34m(self, connection_list, generation_meta, start_pos, end_pos)\u001b[0m\n",
      "File \u001b[1;32mF:\\KNC\\maze-dataset\\maze_dataset\\maze\\lattice_maze.py:881\u001b[0m, in \u001b[0;36mTargetedLatticeMaze.__post_init__\u001b[1;34m(self)\u001b[0m\n\u001b[0;32m    878\u001b[0m \u001b[39massert\u001b[39;00m \u001b[39mself\u001b[39m\u001b[39m.\u001b[39mend_pos \u001b[39mis\u001b[39;00m \u001b[39mnot\u001b[39;00m \u001b[39mNone\u001b[39;00m\n\u001b[0;32m    879\u001b[0m \u001b[39m# check that start and end are in bounds\u001b[39;00m\n\u001b[0;32m    880\u001b[0m \u001b[39mif\u001b[39;00m (\n\u001b[1;32m--> 881\u001b[0m     \u001b[39mself\u001b[39;49m\u001b[39m.\u001b[39;49mstart_pos[\u001b[39m0\u001b[39;49m] \u001b[39m>\u001b[39m\u001b[39m=\u001b[39m \u001b[39mself\u001b[39m\u001b[39m.\u001b[39mgrid_shape[\u001b[39m0\u001b[39m]\n\u001b[0;32m    882\u001b[0m     \u001b[39mor\u001b[39;00m \u001b[39mself\u001b[39m\u001b[39m.\u001b[39mstart_pos[\u001b[39m1\u001b[39m] \u001b[39m>\u001b[39m\u001b[39m=\u001b[39m \u001b[39mself\u001b[39m\u001b[39m.\u001b[39mgrid_shape[\u001b[39m1\u001b[39m]\n\u001b[0;32m    883\u001b[0m ):\n\u001b[0;32m    884\u001b[0m     \u001b[39mraise\u001b[39;00m \u001b[39mValueError\u001b[39;00m(\n\u001b[0;32m    885\u001b[0m         \u001b[39mf\u001b[39m\u001b[39m\"\u001b[39m\u001b[39mstart_pos \u001b[39m\u001b[39m{\u001b[39;00m\u001b[39mself\u001b[39m\u001b[39m.\u001b[39mstart_pos\u001b[39m}\u001b[39;00m\u001b[39m is out of bounds for grid shape \u001b[39m\u001b[39m{\u001b[39;00m\u001b[39mself\u001b[39m\u001b[39m.\u001b[39mgrid_shape\u001b[39m}\u001b[39;00m\u001b[39m\"\u001b[39m\n\u001b[0;32m    886\u001b[0m     )\n\u001b[0;32m    887\u001b[0m \u001b[39mif\u001b[39;00m (\n\u001b[0;32m    888\u001b[0m     \u001b[39mself\u001b[39m\u001b[39m.\u001b[39mend_pos[\u001b[39m0\u001b[39m] \u001b[39m>\u001b[39m\u001b[39m=\u001b[39m \u001b[39mself\u001b[39m\u001b[39m.\u001b[39mgrid_shape[\u001b[39m0\u001b[39m]\n\u001b[0;32m    889\u001b[0m     \u001b[39mor\u001b[39;00m \u001b[39mself\u001b[39m\u001b[39m.\u001b[39mend_pos[\u001b[39m1\u001b[39m] \u001b[39m>\u001b[39m\u001b[39m=\u001b[39m \u001b[39mself\u001b[39m\u001b[39m.\u001b[39mgrid_shape[\u001b[39m1\u001b[39m]\n\u001b[0;32m    890\u001b[0m ):\n",
      "\u001b[1;31mIndexError\u001b[0m: too many indices for array: array is 0-dimensional, but 1 were indexed"
     ]
    }
   ],
   "source": [
    "dataset: MazeDataset = MazeDataset.from_config(\n",
    "\tcfg,\n",
    "\tdo_download=False,\n",
    "\tload_local=False,\n",
    "\tdo_generate=True,\n",
    "    save_local=True,\n",
    "\tlocal_base_path=LOCAL_DATA_PATH,\n",
    "\tverbose=True,\n",
    "\tzanj=zanj,\n",
    "\tgen_parallel=False, # parallel generation has overhead, not worth it unless you're doing a lot of mazes\n",
    ")"
   ]
  },
  {
   "cell_type": "code",
   "execution_count": null,
   "metadata": {},
   "outputs": [],
   "source": [
    "dataset_cpy: MazeDataset = MazeDataset.from_config(\n",
    "\tcfg,\n",
    "\tdo_download=False,\n",
    "\tload_local=True,\n",
    "\tdo_generate=False,\n",
    "\tlocal_base_path=LOCAL_DATA_PATH,\n",
    "\tverbose=True,\n",
    "\tzanj=zanj,\n",
    ")\n"
   ]
  },
  {
   "cell_type": "code",
   "execution_count": null,
   "metadata": {},
   "outputs": [],
   "source": [
    "assert dataset.cfg == dataset_cpy.cfg\n",
    "print(len(dataset), len(dataset_cpy))\n",
    "print(dataset_cpy[0])\n",
    "assert all(x == y for x,y in zip(dataset, dataset_cpy))"
   ]
  },
  {
   "cell_type": "code",
   "execution_count": null,
   "metadata": {},
   "outputs": [],
   "source": [
    "dataset_filtered: MazeDataset = dataset.filter_by.path_length(min_length=3)\n",
    "\n",
    "print(f\"{len(dataset) = }\")\n",
    "print(f\"{len(dataset_filtered) = }\")"
   ]
  },
  {
   "cell_type": "code",
   "execution_count": null,
   "metadata": {},
   "outputs": [],
   "source": [
    "plot_dataset_mazes(dataset)\n",
    "plot_dataset_mazes(dataset_filtered)\n"
   ]
  },
  {
   "cell_type": "code",
   "execution_count": null,
   "metadata": {},
   "outputs": [],
   "source": [
    "print(json.dumps(dataset_filtered.cfg.serialize()[\"applied_filters\"], indent=2))\n",
    "print(f\"{MazeDataset._FILTER_NAMESPACE = }\")"
   ]
  },
  {
   "cell_type": "code",
   "execution_count": null,
   "metadata": {},
   "outputs": [],
   "source": [
    "dataset_filtered_from_scratch: MazeDataset = MazeDataset.from_config(\n",
    "\tdataset_filtered.cfg,\n",
    "\tdo_download=False,\n",
    "\tload_local=False,\n",
    "\tdo_generate=True,\n",
    "\tsave_local=False,\n",
    "\tlocal_base_path=LOCAL_DATA_PATH,\n",
    "\tverbose=True,\n",
    "\tzanj=zanj,\n",
    "\tgen_parallel=False,\n",
    ")"
   ]
  },
  {
   "cell_type": "code",
   "execution_count": null,
   "metadata": {},
   "outputs": [],
   "source": [
    "plot_dataset_mazes(dataset_filtered_from_scratch)\n",
    "dataset_filtered_nodupe = dataset_filtered_from_scratch.filter_by.remove_duplicates()\n",
    "plot_dataset_mazes(dataset_filtered_nodupe)\n"
   ]
  },
  {
   "cell_type": "code",
   "execution_count": null,
   "metadata": {},
   "outputs": [],
   "source": [
    "dataset_filtered_custom: MazeDataset = dataset.custom_maze_filter(\n",
    "\tlambda m, p: len(m.solution) == p,\n",
    "\tp=5,\n",
    ")\n",
    "plot_dataset_mazes(dataset)\n",
    "plot_dataset_mazes(dataset_filtered_custom)"
   ]
  },
  {
   "cell_type": "code",
   "execution_count": null,
   "metadata": {},
   "outputs": [],
   "source": [
    "dataset_with_meta = dataset.filter_by.collect_generation_meta()\n",
    "\n",
    "pprint_summary(dataset_with_meta.serialize()['generation_metadata_collected'])"
   ]
  },
  {
   "cell_type": "code",
   "execution_count": null,
   "metadata": {},
   "outputs": [],
   "source": [
    "dataset_not_fully_connected = MazeDataset.from_config(\n",
    "\tMazeDatasetConfig(\n",
    "\t\tname=\"test_disconnected\",\n",
    "\t\tgrid_n=10,\n",
    "\t\tn_mazes=32,\n",
    "\t\tmaze_ctor=LatticeMazeGenerators.gen_dfs,\n",
    "        maze_ctor_kwargs=dict(\n",
    "\t\t\tn_accessible_cells = 70,\n",
    "        \tmax_tree_depth = 15,\n",
    "\t\t),\n",
    "\t),\n",
    "\tdo_download=False,\n",
    "\tload_local=False,\n",
    "\tdo_generate=True,\n",
    "\tsave_local=True,\n",
    "\tlocal_base_path=LOCAL_DATA_PATH,\n",
    "\tverbose=True,\n",
    "\tzanj=zanj,\n",
    ")"
   ]
  },
  {
   "cell_type": "code",
   "execution_count": null,
   "metadata": {},
   "outputs": [],
   "source": [
    "plot_dataset_mazes(dataset_not_fully_connected, 5)"
   ]
  },
  {
   "cell_type": "code",
   "execution_count": null,
   "metadata": {},
   "outputs": [],
   "source": [
    "STANDARD_KWARGS_FROM_CONFIG: dict = dict(\n",
    "    do_download=False,\n",
    "\tload_local=False,\n",
    "\tdo_generate=True,\n",
    "\tsave_local=True,\n",
    "\tlocal_base_path=LOCAL_DATA_PATH,\n",
    "\tverbose=True,\n",
    "\tzanj=zanj,\n",
    ")"
   ]
  },
  {
   "cell_type": "code",
   "execution_count": null,
   "metadata": {},
   "outputs": [],
   "source": [
    "dataset_hallway: MazeDataset = MazeDataset.from_config(\n",
    "\tMazeDatasetConfig(\n",
    "\t\tname=\"test_hallway\",\n",
    "\t\tgrid_n=5,\n",
    "\t\tn_mazes=5,\n",
    "\t\tmaze_ctor=LatticeMazeGenerators.gen_dfs,\n",
    "        maze_ctor_kwargs=dict(\n",
    "\t\t\tn_accessible_cells = 70,\n",
    "        \tmax_tree_depth = 15,\n",
    "            do_forks = False,\n",
    "\t\t),\n",
    "\t),\n",
    "\t**STANDARD_KWARGS_FROM_CONFIG,\n",
    ")"
   ]
  },
  {
   "cell_type": "code",
   "execution_count": null,
   "metadata": {},
   "outputs": [],
   "source": [
    "plot_dataset_mazes(dataset_hallway)"
   ]
  },
  {
   "cell_type": "code",
   "execution_count": null,
   "metadata": {},
   "outputs": [],
   "source": [
    "dataset_perc: MazeDataset = MazeDataset.from_config(\n",
    "\tMazeDatasetConfig(\n",
    "\t\tname=\"test_perc\",\n",
    "\t\tgrid_n=8,\n",
    "\t\tn_mazes=5,\n",
    "\t\tmaze_ctor=LatticeMazeGenerators.gen_percolation,\n",
    "        maze_ctor_kwargs=dict(p=0.5),\n",
    "\t),\n",
    "\t**STANDARD_KWARGS_FROM_CONFIG,\n",
    ")"
   ]
  },
  {
   "cell_type": "code",
   "execution_count": null,
   "metadata": {},
   "outputs": [],
   "source": [
    "plot_dataset_mazes(dataset_perc)"
   ]
  },
  {
   "cell_type": "code",
   "execution_count": null,
   "metadata": {},
   "outputs": [],
   "source": [
    "dataset_dfs_perc: MazeDataset = MazeDataset.from_config(\n",
    "\tMazeDatasetConfig(\n",
    "\t\tname=\"test_dfs_perc\",\n",
    "\t\tgrid_n=8,\n",
    "\t\tn_mazes=5,\n",
    "\t\tmaze_ctor=LatticeMazeGenerators.gen_dfs_percolation,\n",
    "        maze_ctor_kwargs=dict(p=0.2),\n",
    "\t),\n",
    "\t**STANDARD_KWARGS_FROM_CONFIG,\n",
    ")"
   ]
  },
  {
   "cell_type": "code",
   "execution_count": null,
   "metadata": {},
   "outputs": [],
   "source": [
    "plot_dataset_mazes(dataset_dfs_perc)"
   ]
  },
  {
   "cell_type": "code",
   "execution_count": null,
   "metadata": {},
   "outputs": [],
   "source": [
    "for ds in [dataset_not_fully_connected, dataset_hallway, dataset_perc, dataset_dfs_perc]:\n",
    "\tprint(f\"{ds.cfg.name = }\")\n",
    "\tpprint_summary(ds.filter_by.collect_generation_meta().serialize()['generation_metadata_collected'])"
   ]
  }
 ],
 "metadata": {
  "kernelspec": {
   "display_name": "maze-dataset-K69OfPxp-py3.10",
   "language": "python",
   "name": "python3"
  },
  "language_info": {
   "codemirror_mode": {
    "name": "ipython",
    "version": 3
   },
   "file_extension": ".py",
   "mimetype": "text/x-python",
   "name": "python",
   "nbconvert_exporter": "python",
   "pygments_lexer": "ipython3",
   "version": "3.11.4"
  },
  "orig_nbformat": 4
 },
 "nbformat": 4,
 "nbformat_minor": 2
}
