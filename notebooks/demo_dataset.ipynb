{
 "cells": [
  {
   "attachments": {},
   "cell_type": "markdown",
   "metadata": {},
   "source": [
    "# Basics\n",
    "\n",
    "to start, let's import a few things we'll need:"
   ]
  },
  {
   "cell_type": "code",
   "execution_count": null,
   "metadata": {},
   "outputs": [],
   "source": [
    "# other package imports\n",
    "import matplotlib.pyplot as plt # keep this import for CI to work\n",
    "from zanj import ZANJ # saving/loading data\n",
    "from muutils.mlutils import pprint_summary # pretty printing as json\n",
    "\n",
    "# maze_dataset imports\n",
    "from maze_dataset import LatticeMaze, SolvedMaze, MazeDataset, MazeDatasetConfig\n",
    "from maze_dataset.generation import LatticeMazeGenerators, GENERATORS_MAP\n",
    "from maze_dataset.generation.default_generators import DEFAULT_GENERATORS\n",
    "from maze_dataset.dataset.configs import MAZE_DATASET_CONFIGS\n",
    "from maze_dataset.plotting import plot_dataset_mazes, print_dataset_mazes\n",
    "\n",
    "# check the configs\n",
    "print(MAZE_DATASET_CONFIGS.keys())\n",
    "# for saving/loading things\n",
    "LOCAL_DATA_PATH: str = \"../data/maze_dataset/\"\n",
    "zanj: ZANJ = ZANJ(external_list_threshold=256)"
   ]
  },
  {
   "attachments": {},
   "cell_type": "markdown",
   "metadata": {},
   "source": [
    "You should always see `test-g3-n5-a_dfs-h9136` in the list of available dataset configs above.\n",
    "\n",
    "Now, let's set up our initial config and dataset:"
   ]
  },
  {
   "cell_type": "code",
   "execution_count": null,
   "metadata": {},
   "outputs": [],
   "source": [
    "cfg: MazeDatasetConfig = MazeDatasetConfig(\n",
    "\tname=\"test\", # name is only for you to keep track of things\n",
    "\tgrid_n=16, # number of rows/columns in the lattice\n",
    "\tn_mazes=4, # number of mazes to generate\n",
    "\tmaze_ctor=LatticeMazeGenerators.gen_dfs, # algorithm to generate the maze\n",
    "    # there are a few more arguments here, to be discussed later\n",
    ")\n",
    "\n",
    "# each config will use this function to get the name of the dataset\n",
    "# it contains some basic info about the algorithm, size, and number of mazes\n",
    "# at the end after \"h\" is a stable hash of the config to avoid collisions\n",
    "print(cfg.to_fname())"
   ]
  },
  {
   "cell_type": "code",
   "execution_count": null,
   "metadata": {},
   "outputs": [],
   "source": [
    "# to create a dataset, just call MazeDataset.from_config\n",
    "dataset: MazeDataset = MazeDataset.from_config(\n",
    "    # your config\n",
    "\tcfg,\n",
    "    # and all this below is completely optional\n",
    "\tdo_download=False,\n",
    "\tload_local=False,\n",
    "\tdo_generate=True,\n",
    "    save_local=True,\n",
    "\tlocal_base_path=LOCAL_DATA_PATH,\n",
    "\tverbose=True,\n",
    "\tzanj=zanj,\n",
    "\tgen_parallel=False, # parallel generation has overhead, not worth it unless you're doing a lot of mazes\n",
    ")"
   ]
  },
  {
   "attachments": {},
   "cell_type": "markdown",
   "metadata": {},
   "source": [
    "now that we have our dataset, let's take a look at it!"
   ]
  },
  {
   "cell_type": "code",
   "execution_count": null,
   "metadata": {},
   "outputs": [],
   "source": [
    "plot_dataset_mazes(dataset, count=None) # for large datasets, set the count to some int to just plot the first few"
   ]
  },
  {
   "attachments": {},
   "cell_type": "markdown",
   "metadata": {},
   "source": [
    "# Filtering\n",
    "\n",
    "you can also filter datasets by a variety of parameters:"
   ]
  },
  {
   "cell_type": "code",
   "execution_count": null,
   "metadata": {},
   "outputs": [],
   "source": [
    "dataset_filtered: MazeDataset = dataset.filter_by.path_length(min_length=3)\n",
    "\n",
    "print(f\"{len(dataset) = }\")\n",
    "print(f\"{len(dataset_filtered) = }\")"
   ]
  },
  {
   "cell_type": "code",
   "execution_count": null,
   "metadata": {},
   "outputs": [],
   "source": [
    "plot_dataset_mazes(dataset_filtered)"
   ]
  },
  {
   "cell_type": "code",
   "execution_count": null,
   "metadata": {},
   "outputs": [],
   "source": [
    "pprint_summary(dataset_filtered.cfg.serialize()[\"applied_filters\"])\n",
    "print(f\"{MazeDataset._FILTER_NAMESPACE = }\")"
   ]
  },
  {
   "cell_type": "code",
   "execution_count": null,
   "metadata": {},
   "outputs": [],
   "source": [
    "# filters can also be specified at generation time -- but it will still generate the whole dataset and then filter it\n",
    "\n",
    "dataset_filtered_from_scratch: MazeDataset = MazeDataset.from_config(\n",
    "\tdataset_filtered.cfg,\n",
    "\tdo_download=False,\n",
    "\tload_local=False,\n",
    "\tdo_generate=True,\n",
    "\tsave_local=False,\n",
    "\tlocal_base_path=LOCAL_DATA_PATH,\n",
    "\tverbose=True,\n",
    "\tzanj=zanj,\n",
    "\tgen_parallel=False,\n",
    ")"
   ]
  },
  {
   "cell_type": "code",
   "execution_count": null,
   "metadata": {},
   "outputs": [],
   "source": [
    "plot_dataset_mazes(dataset_filtered_from_scratch)\n",
    "dataset_filtered_nodupe = dataset_filtered_from_scratch.filter_by.remove_duplicates()\n",
    "plot_dataset_mazes(dataset_filtered_nodupe)\n"
   ]
  },
  {
   "cell_type": "code",
   "execution_count": null,
   "metadata": {},
   "outputs": [],
   "source": [
    "dataset_filtered_custom: MazeDataset = dataset.custom_maze_filter(\n",
    "\tlambda m, p: len(m.solution) == p,\n",
    "\tp=5,\n",
    ")\n",
    "plot_dataset_mazes(dataset)\n",
    "plot_dataset_mazes(dataset_filtered_custom)"
   ]
  },
  {
   "attachments": {},
   "cell_type": "markdown",
   "metadata": {},
   "source": [
    "## metadata\n",
    "\n",
    "by default, each maze stores some metadata about generation in a dictionary. if you don't care about this, you can filter it out (but keep some statistics) to save on storage space:"
   ]
  },
  {
   "cell_type": "code",
   "execution_count": null,
   "metadata": {},
   "outputs": [],
   "source": [
    "dataset_with_meta = dataset.filter_by.collect_generation_meta()\n",
    "metadata = dataset_with_meta.serialize()['generation_metadata_collected']\n",
    "metadata[\"visited_cells\"] = \"...\" # this is a huge list and unweildy to print\n",
    "pprint_summary(metadata)"
   ]
  },
  {
   "attachments": {},
   "cell_type": "markdown",
   "metadata": {},
   "source": [
    "# more algorithms\n",
    "\n",
    "there are a bunch of algorithms included, some with various parameters. Here's a few:"
   ]
  },
  {
   "cell_type": "code",
   "execution_count": null,
   "metadata": {},
   "outputs": [],
   "source": [
    "DATASETS: list[MazeDataset] = [\n",
    "    MazeDataset.from_config(\n",
    "        MazeDatasetConfig(\n",
    "            name=\"demo\",\n",
    "\t\t\tmaze_ctor=GENERATORS_MAP[gen_name],\n",
    "\t\t\tgrid_n=10,\n",
    "            n_mazes=5,\n",
    "            maze_ctor_kwargs=gen_kwargs,\n",
    "\t\t),\n",
    "\t\tlocal_base_path=LOCAL_DATA_PATH,\n",
    "        load_local=False,\n",
    "\t\tverbose=True,\n",
    "\t\tzanj=zanj,\n",
    "\t) for gen_name, gen_kwargs in DEFAULT_GENERATORS\n",
    "]"
   ]
  },
  {
   "cell_type": "code",
   "execution_count": null,
   "metadata": {},
   "outputs": [],
   "source": [
    "for ds in DATASETS:\n",
    "    print_dataset_mazes(ds)"
   ]
  },
  {
   "cell_type": "code",
   "execution_count": null,
   "metadata": {},
   "outputs": [],
   "source": [
    "for ds in DATASETS:\n",
    "\tprint(f\"{ds.cfg.name = }\")\n",
    "\tpprint_summary(ds.filter_by.collect_generation_meta().serialize()['generation_metadata_collected'])"
   ]
  }
 ],
 "metadata": {
  "kernelspec": {
   "display_name": "maze-dataset-K69OfPxp-py3.10",
   "language": "python",
   "name": "python3"
  },
  "language_info": {
   "codemirror_mode": {
    "name": "ipython",
    "version": 3
   },
   "file_extension": ".py",
   "mimetype": "text/x-python",
   "name": "python",
   "nbconvert_exporter": "python",
   "pygments_lexer": "ipython3",
   "version": "3.11.4"
  },
  "orig_nbformat": 4
 },
 "nbformat": 4,
 "nbformat_minor": 2
}
