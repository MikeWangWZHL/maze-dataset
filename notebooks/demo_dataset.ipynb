{
 "cells": [
  {
   "attachments": {},
   "cell_type": "markdown",
   "metadata": {},
   "source": [
    "# Basics\n",
    "\n",
    "to start, let's import a few things we'll need:"
   ]
  },
  {
   "cell_type": "code",
   "execution_count": 1,
   "metadata": {},
   "outputs": [
    {
     "name": "stdout",
     "output_type": "stream",
     "text": [
      "dict_keys(['test-g3-n5-a_dfs-h8954', 'demo_small-g3-n100-a_dfs-h4531', 'demo-g6-n10K-a_dfs-h92673'])\n"
     ]
    }
   ],
   "source": [
    "# other package imports\n",
    "import matplotlib.pyplot as plt # keep this import for CI to work\n",
    "from zanj import ZANJ # saving/loading data\n",
    "from muutils.mlutils import pprint_summary # pretty printing as json\n",
    "\n",
    "# maze_dataset imports\n",
    "from maze_dataset import LatticeMaze, SolvedMaze, MazeDataset, MazeDatasetConfig\n",
    "from maze_dataset.generation import LatticeMazeGenerators, GENERATORS_MAP\n",
    "from maze_dataset.generation.default_generators import DEFAULT_GENERATORS\n",
    "from maze_dataset.dataset.configs import MAZE_DATASET_CONFIGS\n",
    "from maze_dataset.plotting import plot_dataset_mazes, print_dataset_mazes\n",
    "\n",
    "# check the configs\n",
    "print(MAZE_DATASET_CONFIGS.keys())\n",
    "# for saving/loading things\n",
    "LOCAL_DATA_PATH: str = \"../data/maze_dataset/\"\n",
    "zanj: ZANJ = ZANJ(external_list_threshold=256)"
   ]
  },
  {
   "attachments": {},
   "cell_type": "markdown",
   "metadata": {},
   "source": [
    "You should always see `test-g3-n5-a_dfs-h9136` in the list of available dataset configs above.\n",
    "\n",
    "Now, let's set up our initial config and dataset:"
   ]
  },
  {
   "cell_type": "code",
   "execution_count": 2,
   "metadata": {},
   "outputs": [
    {
     "name": "stdout",
     "output_type": "stream",
     "text": [
      "test-g16-n4-a_dfs-h57069\n"
     ]
    }
   ],
   "source": [
    "cfg: MazeDatasetConfig = MazeDatasetConfig(\n",
    "\tname=\"test\", # name is only for you to keep track of things\n",
    "\tgrid_n=16, # number of rows/columns in the lattice\n",
    "\tn_mazes=4, # number of mazes to generate\n",
    "\tmaze_ctor=LatticeMazeGenerators.gen_dfs, # algorithm to generate the maze\n",
    "    # there are a few more arguments here, to be discussed later\n",
    ")\n",
    "\n",
    "# each config will use this function to get the name of the dataset\n",
    "# it contains some basic info about the algorithm, size, and number of mazes\n",
    "# at the end after \"h\" is a stable hash of the config to avoid collisions\n",
    "print(cfg.to_fname())"
   ]
  },
  {
   "cell_type": "code",
   "execution_count": 3,
   "metadata": {},
   "outputs": [
    {
     "name": "stdout",
     "output_type": "stream",
     "text": [
      "trying to get the dataset 'test-g16-n4-a_dfs-h57069'\n",
      "generating dataset...\n"
     ]
    },
    {
     "name": "stderr",
     "output_type": "stream",
     "text": [
      "generating & solving mazes: 100%|██████████| 4/4 [00:00<00:00, 27.59maze/s]\n"
     ]
    },
    {
     "name": "stdout",
     "output_type": "stream",
     "text": [
      "saving dataset to ..\\data\\maze_dataset\\test-g16-n4-a_dfs-h57069.zanj\n",
      "Got dataset test with 4 items. output.cfg.to_fname() = 'test-g16-n4-a_dfs-h57069'\n"
     ]
    }
   ],
   "source": [
    "# to create a dataset, just call MazeDataset.from_config\n",
    "dataset: MazeDataset = MazeDataset.from_config(\n",
    "    # your config\n",
    "\tcfg,\n",
    "    # and all this below is completely optional\n",
    "\tdo_download=False,\n",
    "\tload_local=False,\n",
    "\tdo_generate=True,\n",
    "    save_local=True,\n",
    "\tlocal_base_path=LOCAL_DATA_PATH,\n",
    "\tverbose=True,\n",
    "\tzanj=zanj,\n",
    "\tgen_parallel=False, # parallel generation has overhead, not worth it unless you're doing a lot of mazes\n",
    ")"
   ]
  },
  {
   "attachments": {},
   "cell_type": "markdown",
   "metadata": {},
   "source": [
    "now that we have our dataset, let's take a look at it!"
   ]
  },
  {
   "cell_type": "code",
   "execution_count": 4,
   "metadata": {},
   "outputs": [
    {
     "data": {
      "text/plain": [
       "(<Figure size 1500x500 with 4 Axes>,\n",
       " array([<Axes: >, <Axes: >, <Axes: >, <Axes: >], dtype=object))"
      ]
     },
     "execution_count": 4,
     "metadata": {},
     "output_type": "execute_result"
    },
    {
     "data": {
      "image/png": "[encoded data removed]",
      "text/plain": [
       "<Figure size 1500x500 with 4 Axes>"
      ]
     },
     "metadata": {},
     "output_type": "display_data"
    }
   ],
   "source": [
    "plot_dataset_mazes(dataset, count=None) # for large datasets, set the count to some int to just plot the first few"
   ]
  },
  {
   "attachments": {},
   "cell_type": "markdown",
   "metadata": {},
   "source": [
    "# Filtering\n",
    "\n",
    "you can also filter datasets by a variety of parameters:"
   ]
  },
  {
   "cell_type": "code",
   "execution_count": 5,
   "metadata": {},
   "outputs": [
    {
     "name": "stdout",
     "output_type": "stream",
     "text": [
      "len(dataset) = 4\n",
      "len(dataset_filtered) = 4\n"
     ]
    }
   ],
   "source": [
    "dataset_filtered: MazeDataset = dataset.filter_by.path_length(min_length=3)\n",
    "\n",
    "print(f\"{len(dataset) = }\")\n",
    "print(f\"{len(dataset_filtered) = }\")"
   ]
  },
  {
   "cell_type": "code",
   "execution_count": 6,
   "metadata": {},
   "outputs": [
    {
     "data": {
      "text/plain": [
       "(<Figure size 1500x500 with 4 Axes>,\n",
       " array([<Axes: >, <Axes: >, <Axes: >, <Axes: >], dtype=object))"
      ]
     },
     "execution_count": 6,
     "metadata": {},
     "output_type": "execute_result"
    },
    {
     "data": {
      "image/png": "[encoded data removed]",
      "text/plain": [
       "<Figure size 1500x500 with 4 Axes>"
      ]
     },
     "metadata": {},
     "output_type": "display_data"
    }
   ],
   "source": [
    "plot_dataset_mazes(dataset_filtered)"
   ]
  },
  {
   "cell_type": "code",
   "execution_count": 7,
   "metadata": {},
   "outputs": [
    {
     "name": "stdout",
     "output_type": "stream",
     "text": [
      "[\n",
      "  {\n",
      "    \"name\": \"path_length\",\n",
      "    \"args\": [],\n",
      "    \"kwargs\": {\n",
      "      \"min_length\": 3\n",
      "    }\n",
      "  }\n",
      "]\n",
      "MazeDataset._FILTER_NAMESPACE = <class 'maze_dataset.dataset.maze_dataset.MazeDatasetFilters'>\n"
     ]
    }
   ],
   "source": [
    "pprint_summary(dataset_filtered.cfg.serialize()[\"applied_filters\"])\n",
    "print(f\"{MazeDataset._FILTER_NAMESPACE = }\")"
   ]
  },
  {
   "cell_type": "code",
   "execution_count": 8,
   "metadata": {},
   "outputs": [
    {
     "name": "stdout",
     "output_type": "stream",
     "text": [
      "trying to get the dataset 'test-g16-n4-a_dfs-h29976'\n",
      "generating dataset...\n"
     ]
    },
    {
     "name": "stderr",
     "output_type": "stream",
     "text": [
      "generating & solving mazes: 100%|██████████| 4/4 [00:00<00:00, 49.94maze/s]"
     ]
    },
    {
     "name": "stdout",
     "output_type": "stream",
     "text": [
      "Got dataset test with 4 items. output.cfg.to_fname() = 'test-g16-n4-a_dfs-h29976'\n"
     ]
    },
    {
     "name": "stderr",
     "output_type": "stream",
     "text": [
      "\n"
     ]
    }
   ],
   "source": [
    "# filters can also be specified at generation time -- but it will still generate the whole dataset and then filter it\n",
    "\n",
    "dataset_filtered_from_scratch: MazeDataset = MazeDataset.from_config(\n",
    "\tdataset_filtered.cfg,\n",
    "\tdo_download=False,\n",
    "\tload_local=False,\n",
    "\tdo_generate=True,\n",
    "\tsave_local=False,\n",
    "\tlocal_base_path=LOCAL_DATA_PATH,\n",
    "\tverbose=True,\n",
    "\tzanj=zanj,\n",
    "\tgen_parallel=False,\n",
    ")"
   ]
  },
  {
   "cell_type": "code",
   "execution_count": 9,
   "metadata": {},
   "outputs": [
    {
     "data": {
      "text/plain": [
       "(<Figure size 1500x500 with 4 Axes>,\n",
       " array([<Axes: >, <Axes: >, <Axes: >, <Axes: >], dtype=object))"
      ]
     },
     "execution_count": 9,
     "metadata": {},
     "output_type": "execute_result"
    },
    {
     "data": {
      "image/png": "[encoded data removed]",
      "text/plain": [
       "<Figure size 1500x500 with 4 Axes>"
      ]
     },
     "metadata": {},
     "output_type": "display_data"
    },
    {
     "data": {
      "image/png": "[encoded data removed]",
      "text/plain": [
       "<Figure size 1500x500 with 4 Axes>"
      ]
     },
     "metadata": {},
     "output_type": "display_data"
    }
   ],
   "source": [
    "plot_dataset_mazes(dataset_filtered_from_scratch)\n",
    "dataset_filtered_nodupe = dataset_filtered_from_scratch.filter_by.remove_duplicates()\n",
    "plot_dataset_mazes(dataset_filtered_nodupe)\n"
   ]
  },
  {
   "cell_type": "code",
   "execution_count": 10,
   "metadata": {},
   "outputs": [
    {
     "name": "stdout",
     "output_type": "stream",
     "text": [
      "No mazes to plot for dataset\n"
     ]
    },
    {
     "data": {
      "image/png": "[encoded data removed]",
      "text/plain": [
       "<Figure size 1500x500 with 4 Axes>"
      ]
     },
     "metadata": {},
     "output_type": "display_data"
    }
   ],
   "source": [
    "dataset_filtered_custom: MazeDataset = dataset.custom_maze_filter(\n",
    "\tlambda m, p: len(m.solution) == p,\n",
    "\tp=5,\n",
    ")\n",
    "plot_dataset_mazes(dataset)\n",
    "plot_dataset_mazes(dataset_filtered_custom)"
   ]
  },
  {
   "attachments": {},
   "cell_type": "markdown",
   "metadata": {},
   "source": [
    "## metadata\n",
    "\n",
    "by default, each maze stores some metadata about generation in a dictionary. if you don't care about this, you can filter it out (but keep some statistics) to save on storage space:"
   ]
  },
  {
   "cell_type": "code",
   "execution_count": 11,
   "metadata": {},
   "outputs": [
    {
     "name": "stdout",
     "output_type": "stream",
     "text": [
      "{\n",
      "  \"func_name\": {\n",
      "    \"gen_dfs\": 4\n",
      "  },\n",
      "  \"grid_shape\": {\n",
      "    \"(16, 16)\": 4\n",
      "  },\n",
      "  \"start_coord\": {\n",
      "    \"(6, 3)\": 1,\n",
      "    \"(13, 9)\": 1,\n",
      "    \"(0, 7)\": 1,\n",
      "    \"(6, 9)\": 1\n",
      "  },\n",
      "  \"n_accessible_cells\": {\n",
      "    \"256\": 4\n",
      "  },\n",
      "  \"max_tree_depth\": {\n",
      "    \"512\": 4\n",
      "  },\n",
      "  \"fully_connected\": {\n",
      "    \"True\": 4\n",
      "  },\n",
      "  \"visited_cells\": \"...\"\n",
      "}\n"
     ]
    }
   ],
   "source": [
    "dataset_with_meta = dataset.filter_by.collect_generation_meta()\n",
    "metadata = dataset_with_meta.serialize()['generation_metadata_collected']\n",
    "metadata[\"visited_cells\"] = \"...\" # this is a huge list and unweildy to print\n",
    "pprint_summary(metadata)"
   ]
  },
  {
   "attachments": {},
   "cell_type": "markdown",
   "metadata": {},
   "source": [
    "# more algorithms\n",
    "\n",
    "there are a bunch of algorithms included, some with various parameters. Here's a few:"
   ]
  },
  {
   "cell_type": "code",
   "execution_count": 12,
   "metadata": {},
   "outputs": [
    {
     "name": "stdout",
     "output_type": "stream",
     "text": [
      "trying to get the dataset 'demo-g5-n5-a_dfs-h65372'\n",
      "seeing if we can download the dataset...\n",
      "no download found, or download failed\n",
      "generating dataset...\n"
     ]
    },
    {
     "name": "stderr",
     "output_type": "stream",
     "text": [
      "generating & solving mazes: 100%|██████████| 5/5 [00:00<00:00, 384.16maze/s]\n"
     ]
    },
    {
     "name": "stdout",
     "output_type": "stream",
     "text": [
      "saving dataset to ..\\data\\maze_dataset\\demo-g5-n5-a_dfs-h65372.zanj\n",
      "Got dataset demo with 5 items. output.cfg.to_fname() = 'demo-g5-n5-a_dfs-h65372'\n",
      "trying to get the dataset 'demo-g5-n5-a_dfs-h83682'\n",
      "seeing if we can download the dataset...\n",
      "no download found, or download failed\n",
      "generating dataset...\n"
     ]
    },
    {
     "name": "stderr",
     "output_type": "stream",
     "text": [
      "generating & solving mazes: 100%|██████████| 5/5 [00:00<00:00, 714.00maze/s]\n"
     ]
    },
    {
     "name": "stdout",
     "output_type": "stream",
     "text": [
      "saving dataset to ..\\data\\maze_dataset\\demo-g5-n5-a_dfs-h83682.zanj\n",
      "Got dataset demo with 5 items. output.cfg.to_fname() = 'demo-g5-n5-a_dfs-h83682'\n",
      "trying to get the dataset 'demo-g5-n5-a_dfs-h31664'\n",
      "seeing if we can download the dataset...\n",
      "no download found, or download failed\n",
      "generating dataset...\n"
     ]
    },
    {
     "name": "stderr",
     "output_type": "stream",
     "text": [
      "generating & solving mazes: 100%|██████████| 5/5 [00:00<00:00, 416.73maze/s]"
     ]
    },
    {
     "name": "stdout",
     "output_type": "stream",
     "text": [
      "saving dataset to ..\\data\\maze_dataset\\demo-g5-n5-a_dfs-h31664.zanj\n"
     ]
    },
    {
     "name": "stderr",
     "output_type": "stream",
     "text": [
      "\n"
     ]
    },
    {
     "name": "stdout",
     "output_type": "stream",
     "text": [
      "Got dataset demo with 5 items. output.cfg.to_fname() = 'demo-g5-n5-a_dfs-h31664'\n",
      "trying to get the dataset 'demo-g5-n5-a_dfs-h95199'\n",
      "seeing if we can download the dataset...\n",
      "no download found, or download failed\n",
      "generating dataset...\n"
     ]
    },
    {
     "name": "stderr",
     "output_type": "stream",
     "text": [
      "generating & solving mazes: 100%|██████████| 5/5 [00:00<00:00, 554.80maze/s]"
     ]
    },
    {
     "name": "stdout",
     "output_type": "stream",
     "text": [
      "saving dataset to ..\\data\\maze_dataset\\demo-g5-n5-a_dfs-h95199.zanj\n"
     ]
    },
    {
     "name": "stderr",
     "output_type": "stream",
     "text": [
      "\n"
     ]
    },
    {
     "name": "stdout",
     "output_type": "stream",
     "text": [
      "Got dataset demo with 5 items. output.cfg.to_fname() = 'demo-g5-n5-a_dfs-h95199'\n",
      "trying to get the dataset 'demo-g5-n5-a_dfs-h5686'\n",
      "seeing if we can download the dataset...\n",
      "no download found, or download failed\n",
      "generating dataset...\n"
     ]
    },
    {
     "name": "stderr",
     "output_type": "stream",
     "text": [
      "generating & solving mazes: 100%|██████████| 5/5 [00:00<00:00, 833.79maze/s]\n"
     ]
    },
    {
     "name": "stdout",
     "output_type": "stream",
     "text": [
      "saving dataset to ..\\data\\maze_dataset\\demo-g5-n5-a_dfs-h5686.zanj\n",
      "Got dataset demo with 5 items. output.cfg.to_fname() = 'demo-g5-n5-a_dfs-h5686'\n",
      "trying to get the dataset 'demo-g5-n5-a_wilson-h39006'\n",
      "seeing if we can download the dataset...\n",
      "no download found, or download failed\n",
      "generating dataset...\n"
     ]
    },
    {
     "name": "stderr",
     "output_type": "stream",
     "text": [
      "generating & solving mazes: 100%|██████████| 5/5 [00:00<00:00, 111.12maze/s]\n"
     ]
    },
    {
     "name": "stdout",
     "output_type": "stream",
     "text": [
      "saving dataset to ..\\data\\maze_dataset\\demo-g5-n5-a_wilson-h39006.zanj\n",
      "Got dataset demo with 5 items. output.cfg.to_fname() = 'demo-g5-n5-a_wilson-h39006'\n",
      "trying to get the dataset 'demo-g5-n5-a_percolation-h93349'\n",
      "seeing if we can download the dataset...\n",
      "no download found, or download failed\n",
      "generating dataset...\n"
     ]
    },
    {
     "name": "stderr",
     "output_type": "stream",
     "text": [
      "generating & solving mazes: 100%|██████████| 5/5 [00:00<00:00, 277.79maze/s]\n"
     ]
    },
    {
     "name": "stdout",
     "output_type": "stream",
     "text": [
      "saving dataset to ..\\data\\maze_dataset\\demo-g5-n5-a_percolation-h93349.zanj\n",
      "Got dataset demo with 5 items. output.cfg.to_fname() = 'demo-g5-n5-a_percolation-h93349'\n",
      "trying to get the dataset 'demo-g5-n5-a_dfs_percolation-h6469'\n",
      "seeing if we can download the dataset...\n",
      "no download found, or download failed\n",
      "generating dataset...\n"
     ]
    },
    {
     "name": "stderr",
     "output_type": "stream",
     "text": [
      "generating & solving mazes: 100%|██████████| 5/5 [00:00<00:00, 262.96maze/s]"
     ]
    },
    {
     "name": "stdout",
     "output_type": "stream",
     "text": [
      "saving dataset to ..\\data\\maze_dataset\\demo-g5-n5-a_dfs_percolation-h6469.zanj\n",
      "Got dataset demo with 5 items. output.cfg.to_fname() = 'demo-g5-n5-a_dfs_percolation-h6469'\n"
     ]
    },
    {
     "name": "stderr",
     "output_type": "stream",
     "text": [
      "\n"
     ]
    },
    {
     "name": "stdout",
     "output_type": "stream",
     "text": [
      "trying to get the dataset 'demo-g5-n5-a_dfs_percolation-h21419'\n",
      "seeing if we can download the dataset...\n",
      "no download found, or download failed\n",
      "generating dataset...\n"
     ]
    },
    {
     "name": "stderr",
     "output_type": "stream",
     "text": [
      "generating & solving mazes: 100%|██████████| 5/5 [00:00<00:00, 192.42maze/s]\n"
     ]
    },
    {
     "name": "stdout",
     "output_type": "stream",
     "text": [
      "saving dataset to ..\\data\\maze_dataset\\demo-g5-n5-a_dfs_percolation-h21419.zanj\n",
      "Got dataset demo with 5 items. output.cfg.to_fname() = 'demo-g5-n5-a_dfs_percolation-h21419'\n",
      "trying to get the dataset 'demo-g5-n5-a_prim-h54698'\n",
      "seeing if we can download the dataset...\n",
      "no download found, or download failed\n",
      "generating dataset...\n"
     ]
    },
    {
     "name": "stderr",
     "output_type": "stream",
     "text": [
      "generating & solving mazes: 100%|██████████| 5/5 [00:00<00:00, 416.34maze/s]"
     ]
    },
    {
     "name": "stdout",
     "output_type": "stream",
     "text": [
      "saving dataset to ..\\data\\maze_dataset\\demo-g5-n5-a_prim-h54698.zanj\n",
      "Got dataset demo with 5 items. output.cfg.to_fname() = 'demo-g5-n5-a_prim-h54698'\n"
     ]
    },
    {
     "name": "stderr",
     "output_type": "stream",
     "text": [
      "\n"
     ]
    },
    {
     "name": "stdout",
     "output_type": "stream",
     "text": [
      "trying to get the dataset 'demo-g5-n5-a_prim-h27643'\n",
      "seeing if we can download the dataset...\n",
      "no download found, or download failed\n",
      "generating dataset...\n"
     ]
    },
    {
     "name": "stderr",
     "output_type": "stream",
     "text": [
      "generating & solving mazes: 100%|██████████| 5/5 [00:00<00:00, 500.01maze/s]\n"
     ]
    },
    {
     "name": "stdout",
     "output_type": "stream",
     "text": [
      "saving dataset to ..\\data\\maze_dataset\\demo-g5-n5-a_prim-h27643.zanj\n",
      "Got dataset demo with 5 items. output.cfg.to_fname() = 'demo-g5-n5-a_prim-h27643'\n",
      "trying to get the dataset 'demo-g5-n5-a_prim-h93098'\n",
      "seeing if we can download the dataset...\n",
      "no download found, or download failed\n",
      "generating dataset...\n"
     ]
    },
    {
     "name": "stderr",
     "output_type": "stream",
     "text": [
      "generating & solving mazes: 100%|██████████| 5/5 [00:00<00:00, 832.73maze/s]\n"
     ]
    },
    {
     "name": "stdout",
     "output_type": "stream",
     "text": [
      "saving dataset to ..\\data\\maze_dataset\\demo-g5-n5-a_prim-h93098.zanj\n",
      "Got dataset demo with 5 items. output.cfg.to_fname() = 'demo-g5-n5-a_prim-h93098'\n",
      "trying to get the dataset 'demo-g5-n5-a_prim-h60775'\n",
      "seeing if we can download the dataset...\n",
      "no download found, or download failed\n",
      "generating dataset...\n"
     ]
    },
    {
     "name": "stderr",
     "output_type": "stream",
     "text": [
      "generating & solving mazes: 100%|██████████| 5/5 [00:00<00:00, 557.16maze/s]\n"
     ]
    },
    {
     "name": "stdout",
     "output_type": "stream",
     "text": [
      "saving dataset to ..\\data\\maze_dataset\\demo-g5-n5-a_prim-h60775.zanj\n",
      "Got dataset demo with 5 items. output.cfg.to_fname() = 'demo-g5-n5-a_prim-h60775'\n",
      "trying to get the dataset 'demo-g5-n5-a_prim-h39017'\n",
      "seeing if we can download the dataset...\n",
      "no download found, or download failed\n",
      "generating dataset...\n"
     ]
    },
    {
     "name": "stderr",
     "output_type": "stream",
     "text": [
      "generating & solving mazes: 100%|██████████| 5/5 [00:00<00:00, 555.46maze/s]\n"
     ]
    },
    {
     "name": "stdout",
     "output_type": "stream",
     "text": [
      "saving dataset to ..\\data\\maze_dataset\\demo-g5-n5-a_prim-h39017.zanj\n",
      "Got dataset demo with 5 items. output.cfg.to_fname() = 'demo-g5-n5-a_prim-h39017'\n",
      "trying to get the dataset 'demo-g5-n5-a_hallway-h1409'\n",
      "seeing if we can download the dataset...\n",
      "no download found, or download failed\n",
      "generating dataset...\n"
     ]
    },
    {
     "name": "stderr",
     "output_type": "stream",
     "text": [
      "generating & solving mazes: 100%|██████████| 5/5 [00:00<00:00, 623.93maze/s]"
     ]
    },
    {
     "name": "stdout",
     "output_type": "stream",
     "text": [
      "saving dataset to ..\\data\\maze_dataset\\demo-g5-n5-a_hallway-h1409.zanj\n",
      "Got dataset demo with 5 items. output.cfg.to_fname() = 'demo-g5-n5-a_hallway-h1409'\n"
     ]
    },
    {
     "name": "stderr",
     "output_type": "stream",
     "text": [
      "\n"
     ]
    }
   ],
   "source": [
    "DATASETS: list[MazeDataset] = [\n",
    "    MazeDataset.from_config(\n",
    "        MazeDatasetConfig(\n",
    "            name=\"demo\",\n",
    "\t\t\tmaze_ctor=GENERATORS_MAP[gen_name],\n",
    "\t\t\tgrid_n=5,\n",
    "            n_mazes=5,\n",
    "            maze_ctor_kwargs=gen_kwargs,\n",
    "\t\t),\n",
    "\t\tlocal_base_path=LOCAL_DATA_PATH,\n",
    "        load_local=False,\n",
    "\t\tverbose=True,\n",
    "\t\tzanj=zanj,\n",
    "\t) for gen_name, gen_kwargs in DEFAULT_GENERATORS\n",
    "]"
   ]
  },
  {
   "cell_type": "code",
   "execution_count": 15,
   "metadata": {},
   "outputs": [
    {
     "data": {
      "image/png": "[encoded data removed]",
      "text/plain": [
       "<Figure size 1500x500 with 5 Axes>"
      ]
     },
     "metadata": {},
     "output_type": "display_data"
    },
    {
     "data": {
      "image/png": "[encoded data removed]",
      "text/plain": [
       "<Figure size 1500x500 with 5 Axes>"
      ]
     },
     "metadata": {},
     "output_type": "display_data"
    },
    {
     "data": {
      "image/png": "[encoded data removed]",
      "text/plain": [
       "<Figure size 1500x500 with 5 Axes>"
      ]
     },
     "metadata": {},
     "output_type": "display_data"
    },
    {
     "data": {
      "image/png": "[encoded data removed]",
      "text/plain": [
       "<Figure size 1500x500 with 5 Axes>"
      ]
     },
     "metadata": {},
     "output_type": "display_data"
    },
    {
     "data": {
      "image/png": "[encoded data removed]",
      "text/plain": [
       "<Figure size 1500x500 with 5 Axes>"
      ]
     },
     "metadata": {},
     "output_type": "display_data"
    },
    {
     "data": {
      "image/png": "[encoded data removed]",
      "text/plain": [
       "<Figure size 1500x500 with 5 Axes>"
      ]
     },
     "metadata": {},
     "output_type": "display_data"
    },
    {
     "data": {
      "image/png": "[encoded data removed]",
      "text/plain": [
       "<Figure size 1500x500 with 5 Axes>"
      ]
     },
     "metadata": {},
     "output_type": "display_data"
    },
    {
     "data": {
      "image/png": "[encoded data removed]",
      "text/plain": [
       "<Figure size 1500x500 with 5 Axes>"
      ]
     },
     "metadata": {},
     "output_type": "display_data"
    },
    {
     "data": {
      "image/png": "[encoded data removed]",
      "text/plain": [
       "<Figure size 1500x500 with 5 Axes>"
      ]
     },
     "metadata": {},
     "output_type": "display_data"
    },
    {
     "data": {
      "image/png": "[encoded data removed]",
      "text/plain": [
       "<Figure size 1500x500 with 5 Axes>"
      ]
     },
     "metadata": {},
     "output_type": "display_data"
    },
    {
     "data": {
      "image/png": "[encoded data removed]",
      "text/plain": [
       "<Figure size 1500x500 with 5 Axes>"
      ]
     },
     "metadata": {},
     "output_type": "display_data"
    },
    {
     "data": {
      "image/png": "[encoded data removed]",
      "text/plain": [
       "<Figure size 1500x500 with 5 Axes>"
      ]
     },
     "metadata": {},
     "output_type": "display_data"
    },
    {
     "data": {
      "image/png": "[encoded data removed]",
      "text/plain": [
       "<Figure size 1500x500 with 5 Axes>"
      ]
     },
     "metadata": {},
     "output_type": "display_data"
    },
    {
     "data": {
      "image/png": "[encoded data removed]",
      "text/plain": [
       "<Figure size 1500x500 with 5 Axes>"
      ]
     },
     "metadata": {},
     "output_type": "display_data"
    },
    {
     "data": {
      "image/png": "[encoded data removed]",
      "text/plain": [
       "<Figure size 1500x500 with 5 Axes>"
      ]
     },
     "metadata": {},
     "output_type": "display_data"
    }
   ],
   "source": [
    "for ds in DATASETS:\n",
    "    plot_dataset_mazes(ds)"
   ]
  },
  {
   "cell_type": "code",
   "execution_count": 14,
   "metadata": {},
   "outputs": [
    {
     "name": "stdout",
     "output_type": "stream",
     "text": [
      "ds.cfg.name = 'demo'\n",
      "{\n",
      "  \"func_name\": {\n",
      "    \"gen_dfs\": 5\n",
      "  },\n",
      "  \"grid_shape\": {\n",
      "    \"(5, 5)\": 5\n",
      "  },\n",
      "  \"start_coord\": {\n",
      "    \"(2, 3)\": 1,\n",
      "    \"(0, 3)\": 1,\n",
      "    \"(0, 1)\": 1,\n",
      "    \"(1, 3)\": 1,\n",
      "    \"(2, 0)\": 1\n",
      "  },\n",
      "  \"n_accessible_cells\": {\n",
      "    \"25\": 5\n",
      "  },\n",
      "  \"max_tree_depth\": {\n",
      "    \"50\": 5\n",
      "  },\n",
      "  \"fully_connected\": {\n",
      "    \"True\": 5\n",
      "  },\n",
      "  \"visited_cells\": {\n",
      "    \"(4, 0)\": 5,\n",
      "    \"(3, 4)\": 5,\n",
      "    \"(4, 3)\": 5,\n",
      "    \"(3, 1)\": 5,\n",
      "    \"(0, 2)\": 5,\n",
      "    \"(2, 2)\": 5,\n",
      "    \"(1, 0)\": 5,\n",
      "    \"(1, 3)\": 5,\n",
      "    \"(4, 2)\": 5,\n",
      "    \"(3, 0)\": 5,\n",
      "    \"(3, 3)\": 5,\n",
      "    \"(0, 1)\": 5,\n",
      "    \"(2, 4)\": 5,\n",
      "    \"(1, 2)\": 5,\n",
      "    \"(0, 4)\": 5,\n",
      "    \"(2, 1)\": 5,\n",
      "    \"(3, 2)\": 5,\n",
      "    \"(4, 1)\": 5,\n",
      "    \"(4, 4)\": 5,\n",
      "    \"(0, 0)\": 5,\n",
      "    \"(1, 1)\": 5,\n",
      "    \"(0, 3)\": 5,\n",
      "    \"(2, 0)\": 5,\n",
      "    \"(1, 4)\": 5,\n",
      "    \"(2, 3)\": 5\n",
      "  }\n",
      "}\n",
      "ds.cfg.name = 'demo'\n",
      "{\n",
      "  \"func_name\": {\n",
      "    \"gen_dfs\": 5\n",
      "  },\n",
      "  \"grid_shape\": {\n",
      "    \"(5, 5)\": 5\n",
      "  },\n",
      "  \"start_coord\": {\n",
      "    \"(2, 3)\": 1,\n",
      "    \"(1, 3)\": 1,\n",
      "    \"(3, 0)\": 1,\n",
      "    \"(2, 0)\": 1,\n",
      "    \"(0, 1)\": 1\n",
      "  },\n",
      "  \"n_accessible_cells\": {\n",
      "    \"25\": 5\n",
      "  },\n",
      "  \"max_tree_depth\": {\n",
      "    \"50\": 5\n",
      "  },\n",
      "  \"fully_connected\": {\n",
      "    \"False\": 5\n",
      "  },\n",
      "  \"visited_cells\": {\n",
      "    \"(4, 0)\": 3,\n",
      "    \"(3, 4)\": 1,\n",
      "    \"(4, 3)\": 2,\n",
      "    \"(3, 1)\": 4,\n",
      "    \"(2, 2)\": 4,\n",
      "    \"(1, 0)\": 4,\n",
      "    \"(1, 3)\": 3,\n",
      "    \"(4, 2)\": 2,\n",
      "    \"(3, 0)\": 3,\n",
      "    \"(3, 3)\": 2,\n",
      "    \"(2, 4)\": 2,\n",
      "    \"(1, 2)\": 4,\n",
      "    \"(2, 1)\": 3,\n",
      "    \"(3, 2)\": 4,\n",
      "    \"(4, 1)\": 3,\n",
      "    \"(4, 4)\": 1,\n",
      "    \"(1, 1)\": 3,\n",
      "    \"(2, 0)\": 4,\n",
      "    \"(2, 3)\": 2,\n",
      "    \"(0, 1)\": 3,\n",
      "    \"(0, 0)\": 3,\n",
      "    \"(0, 3)\": 2,\n",
      "    \"(0, 2)\": 3,\n",
      "    \"(0, 4)\": 1,\n",
      "    \"(1, 4)\": 1\n",
      "  }\n",
      "}\n",
      "ds.cfg.name = 'demo'\n",
      "{\n",
      "  \"func_name\": {\n",
      "    \"gen_dfs\": 5\n",
      "  },\n",
      "  \"grid_shape\": {\n",
      "    \"(5, 5)\": 5\n",
      "  },\n",
      "  \"start_coord\": {\n",
      "    \"(2, 3)\": 1,\n",
      "    \"(1, 3)\": 1,\n",
      "    \"(0, 2)\": 1,\n",
      "    \"(1, 1)\": 1,\n",
      "    \"(3, 3)\": 1\n",
      "  },\n",
      "  \"n_accessible_cells\": {\n",
      "    \"20\": 5\n",
      "  },\n",
      "  \"max_tree_depth\": {\n",
      "    \"50\": 5\n",
      "  },\n",
      "  \"fully_connected\": {\n",
      "    \"False\": 5\n",
      "  },\n",
      "  \"visited_cells\": {\n",
      "    \"(4, 0)\": 5,\n",
      "    \"(3, 4)\": 5,\n",
      "    \"(4, 3)\": 5,\n",
      "    \"(3, 1)\": 4,\n",
      "    \"(2, 2)\": 5,\n",
      "    \"(1, 0)\": 3,\n",
      "    \"(1, 3)\": 4,\n",
      "    \"(4, 2)\": 5,\n",
      "    \"(3, 0)\": 5,\n",
      "    \"(3, 3)\": 4,\n",
      "    \"(2, 4)\": 5,\n",
      "    \"(1, 2)\": 5,\n",
      "    \"(2, 1)\": 4,\n",
      "    \"(3, 2)\": 5,\n",
      "    \"(4, 1)\": 5,\n",
      "    \"(4, 4)\": 5,\n",
      "    \"(0, 0)\": 3,\n",
      "    \"(1, 1)\": 1,\n",
      "    \"(2, 0)\": 4,\n",
      "    \"(2, 3)\": 4,\n",
      "    \"(0, 2)\": 4,\n",
      "    \"(0, 1)\": 3,\n",
      "    \"(0, 4)\": 2,\n",
      "    \"(0, 3)\": 3,\n",
      "    \"(1, 4)\": 2\n",
      "  }\n",
      "}\n",
      "ds.cfg.name = 'demo'\n",
      "{\n",
      "  \"func_name\": {\n",
      "    \"gen_dfs\": 5\n",
      "  },\n",
      "  \"grid_shape\": {\n",
      "    \"(5, 5)\": 5\n",
      "  },\n",
      "  \"start_coord\": {\n",
      "    \"(2, 3)\": 1,\n",
      "    \"(3, 3)\": 1,\n",
      "    \"(3, 1)\": 1,\n",
      "    \"(1, 2)\": 1,\n",
      "    \"(3, 0)\": 1\n",
      "  },\n",
      "  \"n_accessible_cells\": {\n",
      "    \"25\": 5\n",
      "  },\n",
      "  \"max_tree_depth\": {\n",
      "    \"5\": 5\n",
      "  },\n",
      "  \"fully_connected\": {\n",
      "    \"False\": 5\n",
      "  },\n",
      "  \"visited_cells\": {\n",
      "    \"(2, 4)\": 2,\n",
      "    \"(1, 2)\": 2,\n",
      "    \"(2, 1)\": 4,\n",
      "    \"(3, 4)\": 2,\n",
      "    \"(4, 3)\": 2,\n",
      "    \"(0, 3)\": 2,\n",
      "    \"(1, 4)\": 2,\n",
      "    \"(2, 3)\": 3,\n",
      "    \"(3, 3)\": 3,\n",
      "    \"(2, 2)\": 4,\n",
      "    \"(3, 2)\": 5,\n",
      "    \"(1, 3)\": 3,\n",
      "    \"(4, 4)\": 1,\n",
      "    \"(3, 1)\": 3,\n",
      "    \"(4, 2)\": 2,\n",
      "    \"(4, 0)\": 2,\n",
      "    \"(1, 1)\": 2,\n",
      "    \"(2, 0)\": 2,\n",
      "    \"(3, 0)\": 2,\n",
      "    \"(4, 1)\": 2,\n",
      "    \"(0, 1)\": 1,\n",
      "    \"(0, 2)\": 1,\n",
      "    \"(1, 0)\": 2\n",
      "  }\n",
      "}\n",
      "ds.cfg.name = 'demo'\n",
      "{\n",
      "  \"func_name\": {\n",
      "    \"gen_dfs\": 5\n",
      "  },\n",
      "  \"grid_shape\": {\n",
      "    \"(5, 5)\": 5\n",
      "  },\n",
      "  \"start_coord\": {\n",
      "    \"(2, 3)\": 1,\n",
      "    \"(3, 3)\": 1,\n",
      "    \"(3, 1)\": 1,\n",
      "    \"(1, 2)\": 1,\n",
      "    \"(3, 0)\": 1\n",
      "  },\n",
      "  \"n_accessible_cells\": {\n",
      "    \"12\": 5\n",
      "  },\n",
      "  \"max_tree_depth\": {\n",
      "    \"5\": 5\n",
      "  },\n",
      "  \"fully_connected\": {\n",
      "    \"False\": 5\n",
      "  },\n",
      "  \"visited_cells\": {\n",
      "    \"(2, 4)\": 2,\n",
      "    \"(1, 2)\": 2,\n",
      "    \"(2, 1)\": 4,\n",
      "    \"(3, 4)\": 2,\n",
      "    \"(4, 3)\": 2,\n",
      "    \"(0, 3)\": 2,\n",
      "    \"(1, 4)\": 2,\n",
      "    \"(2, 3)\": 3,\n",
      "    \"(3, 3)\": 3,\n",
      "    \"(2, 2)\": 4,\n",
      "    \"(3, 2)\": 5,\n",
      "    \"(1, 3)\": 3,\n",
      "    \"(4, 4)\": 1,\n",
      "    \"(3, 1)\": 3,\n",
      "    \"(4, 2)\": 2,\n",
      "    \"(4, 0)\": 2,\n",
      "    \"(1, 1)\": 2,\n",
      "    \"(2, 0)\": 2,\n",
      "    \"(3, 0)\": 2,\n",
      "    \"(4, 1)\": 2,\n",
      "    \"(0, 1)\": 1,\n",
      "    \"(0, 2)\": 1,\n",
      "    \"(1, 0)\": 2\n",
      "  }\n",
      "}\n",
      "ds.cfg.name = 'demo'\n",
      "{\n",
      "  \"func_name\": {\n",
      "    \"gen_wilson\": 5\n",
      "  },\n",
      "  \"grid_shape\": {\n",
      "    \"(5, 5)\": 5\n",
      "  },\n",
      "  \"fully_connected\": {\n",
      "    \"True\": 5\n",
      "  }\n",
      "}\n",
      "ds.cfg.name = 'demo'\n",
      "{\n",
      "  \"func_name\": {\n",
      "    \"gen_percolation\": 5\n",
      "  },\n",
      "  \"grid_shape\": {\n",
      "    \"(5, 5)\": 5\n",
      "  },\n",
      "  \"percolation_p\": {\n",
      "    \"0.7\": 5\n",
      "  },\n",
      "  \"start_coord\": {\n",
      "    \"(2, 3)\": 1,\n",
      "    \"(0, 2)\": 1,\n",
      "    \"(0, 1)\": 1,\n",
      "    \"(3, 1)\": 1,\n",
      "    \"(0, 3)\": 1\n",
      "  },\n",
      "  \"visited_cells\": {\n",
      "    \"(4, 0)\": 5,\n",
      "    \"(3, 4)\": 4,\n",
      "    \"(4, 3)\": 5,\n",
      "    \"(3, 1)\": 5,\n",
      "    \"(0, 2)\": 5,\n",
      "    \"(2, 2)\": 5,\n",
      "    \"(1, 0)\": 5,\n",
      "    \"(1, 3)\": 5,\n",
      "    \"(4, 2)\": 5,\n",
      "    \"(3, 0)\": 5,\n",
      "    \"(3, 3)\": 5,\n",
      "    \"(0, 1)\": 5,\n",
      "    \"(2, 4)\": 5,\n",
      "    \"(1, 2)\": 5,\n",
      "    \"(0, 4)\": 5,\n",
      "    \"(2, 1)\": 5,\n",
      "    \"(3, 2)\": 5,\n",
      "    \"(4, 1)\": 5,\n",
      "    \"(4, 4)\": 5,\n",
      "    \"(0, 0)\": 4,\n",
      "    \"(1, 1)\": 5,\n",
      "    \"(0, 3)\": 5,\n",
      "    \"(2, 0)\": 5,\n",
      "    \"(1, 4)\": 5,\n",
      "    \"(2, 3)\": 5\n",
      "  }\n",
      "}\n",
      "ds.cfg.name = 'demo'\n",
      "{\n",
      "  \"func_name\": {\n",
      "    \"gen_dfs_percolation\": 5\n",
      "  },\n",
      "  \"grid_shape\": {\n",
      "    \"(5, 5)\": 5\n",
      "  },\n",
      "  \"start_coord\": {\n",
      "    \"(2, 3)\": 1,\n",
      "    \"(0, 2)\": 1,\n",
      "    \"(0, 1)\": 1,\n",
      "    \"(1, 0)\": 1,\n",
      "    \"(1, 2)\": 1\n",
      "  },\n",
      "  \"n_accessible_cells\": {\n",
      "    \"25\": 5\n",
      "  },\n",
      "  \"max_tree_depth\": {\n",
      "    \"50\": 5\n",
      "  },\n",
      "  \"fully_connected\": {\n",
      "    \"True\": 5\n",
      "  },\n",
      "  \"visited_cells\": {\n",
      "    \"(4, 0)\": 5,\n",
      "    \"(3, 4)\": 5,\n",
      "    \"(4, 3)\": 5,\n",
      "    \"(3, 1)\": 5,\n",
      "    \"(0, 2)\": 5,\n",
      "    \"(2, 2)\": 5,\n",
      "    \"(1, 0)\": 5,\n",
      "    \"(1, 3)\": 5,\n",
      "    \"(4, 2)\": 5,\n",
      "    \"(3, 0)\": 5,\n",
      "    \"(3, 3)\": 5,\n",
      "    \"(0, 1)\": 5,\n",
      "    \"(2, 4)\": 5,\n",
      "    \"(1, 2)\": 5,\n",
      "    \"(0, 4)\": 5,\n",
      "    \"(2, 1)\": 5,\n",
      "    \"(3, 2)\": 5,\n",
      "    \"(4, 1)\": 5,\n",
      "    \"(4, 4)\": 5,\n",
      "    \"(0, 0)\": 5,\n",
      "    \"(1, 1)\": 5,\n",
      "    \"(0, 3)\": 5,\n",
      "    \"(2, 0)\": 5,\n",
      "    \"(1, 4)\": 5,\n",
      "    \"(2, 3)\": 5\n",
      "  },\n",
      "  \"percolation_p\": {\n",
      "    \"0.1\": 5\n",
      "  }\n",
      "}\n",
      "ds.cfg.name = 'demo'\n",
      "{\n",
      "  \"func_name\": {\n",
      "    \"gen_dfs_percolation\": 5\n",
      "  },\n",
      "  \"grid_shape\": {\n",
      "    \"(5, 5)\": 5\n",
      "  },\n",
      "  \"start_coord\": {\n",
      "    \"(2, 3)\": 1,\n",
      "    \"(0, 2)\": 1,\n",
      "    \"(0, 1)\": 1,\n",
      "    \"(1, 0)\": 1,\n",
      "    \"(1, 2)\": 1\n",
      "  },\n",
      "  \"n_accessible_cells\": {\n",
      "    \"25\": 5\n",
      "  },\n",
      "  \"max_tree_depth\": {\n",
      "    \"50\": 5\n",
      "  },\n",
      "  \"fully_connected\": {\n",
      "    \"True\": 5\n",
      "  },\n",
      "  \"visited_cells\": {\n",
      "    \"(4, 0)\": 5,\n",
      "    \"(3, 4)\": 5,\n",
      "    \"(4, 3)\": 5,\n",
      "    \"(3, 1)\": 5,\n",
      "    \"(0, 2)\": 5,\n",
      "    \"(2, 2)\": 5,\n",
      "    \"(1, 0)\": 5,\n",
      "    \"(1, 3)\": 5,\n",
      "    \"(4, 2)\": 5,\n",
      "    \"(3, 0)\": 5,\n",
      "    \"(3, 3)\": 5,\n",
      "    \"(0, 1)\": 5,\n",
      "    \"(2, 4)\": 5,\n",
      "    \"(1, 2)\": 5,\n",
      "    \"(0, 4)\": 5,\n",
      "    \"(2, 1)\": 5,\n",
      "    \"(3, 2)\": 5,\n",
      "    \"(4, 1)\": 5,\n",
      "    \"(4, 4)\": 5,\n",
      "    \"(0, 0)\": 5,\n",
      "    \"(1, 1)\": 5,\n",
      "    \"(0, 3)\": 5,\n",
      "    \"(2, 0)\": 5,\n",
      "    \"(1, 4)\": 5,\n",
      "    \"(2, 3)\": 5\n",
      "  },\n",
      "  \"percolation_p\": {\n",
      "    \"0.4\": 5\n",
      "  }\n",
      "}\n",
      "ds.cfg.name = 'demo'\n",
      "{\n",
      "  \"func_name\": {\n",
      "    \"gen_dfs\": 5\n",
      "  },\n",
      "  \"grid_shape\": {\n",
      "    \"(5, 5)\": 5\n",
      "  },\n",
      "  \"start_coord\": {\n",
      "    \"(2, 3)\": 1,\n",
      "    \"(0, 3)\": 1,\n",
      "    \"(0, 1)\": 1,\n",
      "    \"(1, 3)\": 1,\n",
      "    \"(2, 0)\": 1\n",
      "  },\n",
      "  \"n_accessible_cells\": {\n",
      "    \"25\": 5\n",
      "  },\n",
      "  \"max_tree_depth\": {\n",
      "    \"50\": 5\n",
      "  },\n",
      "  \"fully_connected\": {\n",
      "    \"True\": 5\n",
      "  },\n",
      "  \"visited_cells\": {\n",
      "    \"(4, 0)\": 5,\n",
      "    \"(3, 4)\": 5,\n",
      "    \"(4, 3)\": 5,\n",
      "    \"(3, 1)\": 5,\n",
      "    \"(0, 2)\": 5,\n",
      "    \"(2, 2)\": 5,\n",
      "    \"(1, 0)\": 5,\n",
      "    \"(1, 3)\": 5,\n",
      "    \"(4, 2)\": 5,\n",
      "    \"(3, 0)\": 5,\n",
      "    \"(3, 3)\": 5,\n",
      "    \"(0, 1)\": 5,\n",
      "    \"(2, 4)\": 5,\n",
      "    \"(1, 2)\": 5,\n",
      "    \"(0, 4)\": 5,\n",
      "    \"(2, 1)\": 5,\n",
      "    \"(3, 2)\": 5,\n",
      "    \"(4, 1)\": 5,\n",
      "    \"(4, 4)\": 5,\n",
      "    \"(0, 0)\": 5,\n",
      "    \"(1, 1)\": 5,\n",
      "    \"(0, 3)\": 5,\n",
      "    \"(2, 0)\": 5,\n",
      "    \"(1, 4)\": 5,\n",
      "    \"(2, 3)\": 5\n",
      "  }\n",
      "}\n",
      "ds.cfg.name = 'demo'\n",
      "{\n",
      "  \"func_name\": {\n",
      "    \"gen_dfs\": 5\n",
      "  },\n",
      "  \"grid_shape\": {\n",
      "    \"(5, 5)\": 5\n",
      "  },\n",
      "  \"start_coord\": {\n",
      "    \"(2, 3)\": 2,\n",
      "    \"(3, 0)\": 2,\n",
      "    \"(3, 1)\": 1\n",
      "  },\n",
      "  \"n_accessible_cells\": {\n",
      "    \"25\": 5\n",
      "  },\n",
      "  \"max_tree_depth\": {\n",
      "    \"50\": 5\n",
      "  },\n",
      "  \"fully_connected\": {\n",
      "    \"False\": 5\n",
      "  },\n",
      "  \"visited_cells\": {\n",
      "    \"(2, 4)\": 4,\n",
      "    \"(1, 2)\": 4,\n",
      "    \"(0, 4)\": 4,\n",
      "    \"(0, 3)\": 4,\n",
      "    \"(1, 4)\": 4,\n",
      "    \"(2, 3)\": 4,\n",
      "    \"(0, 2)\": 5,\n",
      "    \"(2, 2)\": 4,\n",
      "    \"(1, 3)\": 4,\n",
      "    \"(0, 1)\": 3,\n",
      "    \"(4, 0)\": 3,\n",
      "    \"(2, 1)\": 4,\n",
      "    \"(0, 0)\": 2,\n",
      "    \"(3, 1)\": 3,\n",
      "    \"(4, 1)\": 3,\n",
      "    \"(1, 1)\": 3,\n",
      "    \"(2, 0)\": 3,\n",
      "    \"(3, 0)\": 3,\n",
      "    \"(1, 0)\": 2,\n",
      "    \"(3, 4)\": 2,\n",
      "    \"(4, 3)\": 2,\n",
      "    \"(4, 2)\": 2,\n",
      "    \"(3, 2)\": 2,\n",
      "    \"(4, 4)\": 2,\n",
      "    \"(3, 3)\": 1\n",
      "  }\n",
      "}\n",
      "ds.cfg.name = 'demo'\n",
      "{\n",
      "  \"func_name\": {\n",
      "    \"gen_dfs\": 5\n",
      "  },\n",
      "  \"grid_shape\": {\n",
      "    \"(5, 5)\": 5\n",
      "  },\n",
      "  \"start_coord\": {\n",
      "    \"(2, 3)\": 1,\n",
      "    \"(3, 3)\": 1,\n",
      "    \"(3, 1)\": 1,\n",
      "    \"(2, 0)\": 1,\n",
      "    \"(0, 1)\": 1\n",
      "  },\n",
      "  \"n_accessible_cells\": {\n",
      "    \"12\": 5\n",
      "  },\n",
      "  \"max_tree_depth\": {\n",
      "    \"50\": 5\n",
      "  },\n",
      "  \"fully_connected\": {\n",
      "    \"False\": 5\n",
      "  },\n",
      "  \"visited_cells\": {\n",
      "    \"(4, 4)\": 2,\n",
      "    \"(2, 4)\": 3,\n",
      "    \"(2, 1)\": 3,\n",
      "    \"(3, 4)\": 2,\n",
      "    \"(4, 3)\": 3,\n",
      "    \"(4, 2)\": 3,\n",
      "    \"(1, 4)\": 3,\n",
      "    \"(2, 3)\": 4,\n",
      "    \"(3, 3)\": 2,\n",
      "    \"(2, 2)\": 3,\n",
      "    \"(3, 2)\": 3,\n",
      "    \"(1, 3)\": 4,\n",
      "    \"(0, 3)\": 2,\n",
      "    \"(4, 0)\": 1,\n",
      "    \"(0, 0)\": 3,\n",
      "    \"(3, 1)\": 1,\n",
      "    \"(1, 1)\": 3,\n",
      "    \"(2, 0)\": 3,\n",
      "    \"(3, 0)\": 2,\n",
      "    \"(1, 0)\": 3,\n",
      "    \"(4, 1)\": 1,\n",
      "    \"(0, 1)\": 1,\n",
      "    \"(1, 2)\": 2,\n",
      "    \"(0, 2)\": 2,\n",
      "    \"(0, 4)\": 1\n",
      "  }\n",
      "}\n",
      "ds.cfg.name = 'demo'\n",
      "{\n",
      "  \"func_name\": {\n",
      "    \"gen_dfs\": 5\n",
      "  },\n",
      "  \"grid_shape\": {\n",
      "    \"(5, 5)\": 5\n",
      "  },\n",
      "  \"start_coord\": {\n",
      "    \"(2, 3)\": 1,\n",
      "    \"(3, 1)\": 1,\n",
      "    \"(1, 2)\": 1,\n",
      "    \"(0, 1)\": 1,\n",
      "    \"(2, 1)\": 1\n",
      "  },\n",
      "  \"n_accessible_cells\": {\n",
      "    \"25\": 5\n",
      "  },\n",
      "  \"max_tree_depth\": {\n",
      "    \"5\": 5\n",
      "  },\n",
      "  \"fully_connected\": {\n",
      "    \"False\": 5\n",
      "  },\n",
      "  \"visited_cells\": {\n",
      "    \"(3, 4)\": 3,\n",
      "    \"(4, 3)\": 2,\n",
      "    \"(3, 1)\": 4,\n",
      "    \"(0, 2)\": 5,\n",
      "    \"(2, 2)\": 5,\n",
      "    \"(1, 0)\": 4,\n",
      "    \"(1, 3)\": 4,\n",
      "    \"(4, 2)\": 3,\n",
      "    \"(3, 0)\": 4,\n",
      "    \"(3, 3)\": 3,\n",
      "    \"(2, 4)\": 3,\n",
      "    \"(1, 2)\": 5,\n",
      "    \"(0, 4)\": 1,\n",
      "    \"(2, 1)\": 5,\n",
      "    \"(3, 2)\": 3,\n",
      "    \"(4, 1)\": 3,\n",
      "    \"(4, 4)\": 2,\n",
      "    \"(1, 1)\": 5,\n",
      "    \"(0, 3)\": 1,\n",
      "    \"(2, 0)\": 5,\n",
      "    \"(1, 4)\": 2,\n",
      "    \"(2, 3)\": 2,\n",
      "    \"(0, 1)\": 3,\n",
      "    \"(0, 0)\": 3,\n",
      "    \"(4, 0)\": 2\n",
      "  }\n",
      "}\n",
      "ds.cfg.name = 'demo'\n",
      "{\n",
      "  \"func_name\": {\n",
      "    \"gen_dfs\": 5\n",
      "  },\n",
      "  \"grid_shape\": {\n",
      "    \"(5, 5)\": 5\n",
      "  },\n",
      "  \"start_coord\": {\n",
      "    \"(2, 3)\": 1,\n",
      "    \"(3, 3)\": 1,\n",
      "    \"(3, 1)\": 1,\n",
      "    \"(2, 0)\": 1,\n",
      "    \"(0, 3)\": 1\n",
      "  },\n",
      "  \"n_accessible_cells\": {\n",
      "    \"12\": 5\n",
      "  },\n",
      "  \"max_tree_depth\": {\n",
      "    \"5\": 5\n",
      "  },\n",
      "  \"fully_connected\": {\n",
      "    \"False\": 5\n",
      "  },\n",
      "  \"visited_cells\": {\n",
      "    \"(2, 4)\": 3,\n",
      "    \"(1, 2)\": 1,\n",
      "    \"(0, 4)\": 1,\n",
      "    \"(3, 4)\": 4,\n",
      "    \"(1, 1)\": 2,\n",
      "    \"(0, 3)\": 1,\n",
      "    \"(2, 0)\": 2,\n",
      "    \"(1, 4)\": 3,\n",
      "    \"(2, 3)\": 4,\n",
      "    \"(0, 2)\": 2,\n",
      "    \"(1, 0)\": 2,\n",
      "    \"(1, 3)\": 3,\n",
      "    \"(4, 4)\": 2,\n",
      "    \"(4, 3)\": 2,\n",
      "    \"(3, 1)\": 2,\n",
      "    \"(4, 2)\": 3,\n",
      "    \"(3, 3)\": 3,\n",
      "    \"(2, 2)\": 2,\n",
      "    \"(3, 2)\": 2,\n",
      "    \"(4, 1)\": 4,\n",
      "    \"(2, 1)\": 2,\n",
      "    \"(4, 0)\": 2,\n",
      "    \"(3, 0)\": 1\n",
      "  }\n",
      "}\n",
      "ds.cfg.name = 'demo'\n",
      "{\n",
      "  \"func_name\": {\n",
      "    \"gen_dfs\": 5\n",
      "  },\n",
      "  \"grid_shape\": {\n",
      "    \"(5, 5)\": 5\n",
      "  },\n",
      "  \"start_coord\": {\n",
      "    \"(2, 3)\": 1,\n",
      "    \"(3, 3)\": 1,\n",
      "    \"(3, 1)\": 1,\n",
      "    \"(2, 0)\": 1,\n",
      "    \"(0, 3)\": 1\n",
      "  },\n",
      "  \"n_accessible_cells\": {\n",
      "    \"12\": 5\n",
      "  },\n",
      "  \"max_tree_depth\": {\n",
      "    \"5\": 5\n",
      "  },\n",
      "  \"fully_connected\": {\n",
      "    \"False\": 5\n",
      "  },\n",
      "  \"visited_cells\": {\n",
      "    \"(2, 4)\": 3,\n",
      "    \"(1, 2)\": 1,\n",
      "    \"(0, 4)\": 1,\n",
      "    \"(3, 4)\": 4,\n",
      "    \"(1, 1)\": 2,\n",
      "    \"(0, 3)\": 1,\n",
      "    \"(2, 0)\": 2,\n",
      "    \"(1, 4)\": 3,\n",
      "    \"(2, 3)\": 4,\n",
      "    \"(0, 2)\": 2,\n",
      "    \"(1, 0)\": 2,\n",
      "    \"(1, 3)\": 3,\n",
      "    \"(4, 4)\": 2,\n",
      "    \"(4, 3)\": 2,\n",
      "    \"(3, 1)\": 2,\n",
      "    \"(4, 2)\": 3,\n",
      "    \"(3, 3)\": 3,\n",
      "    \"(2, 2)\": 2,\n",
      "    \"(3, 2)\": 2,\n",
      "    \"(4, 1)\": 4,\n",
      "    \"(2, 1)\": 2,\n",
      "    \"(4, 0)\": 2,\n",
      "    \"(3, 0)\": 1\n",
      "  }\n",
      "}\n"
     ]
    }
   ],
   "source": [
    "for ds in DATASETS:\n",
    "\tprint(f\"{ds.cfg.name = }\")\n",
    "\tpprint_summary(ds.filter_by.collect_generation_meta().serialize()['generation_metadata_collected'])"
   ]
  }
 ],
 "metadata": {
  "kernelspec": {
   "display_name": "maze-dataset-K69OfPxp-py3.10",
   "language": "python",
   "name": "python3"
  },
  "language_info": {
   "codemirror_mode": {
    "name": "ipython",
    "version": 3
   },
   "file_extension": ".py",
   "mimetype": "text/x-python",
   "name": "python",
   "nbconvert_exporter": "python",
   "pygments_lexer": "ipython3",
   "version": "3.11.4"
  },
  "orig_nbformat": 4
 },
 "nbformat": 4,
 "nbformat_minor": 2
}
